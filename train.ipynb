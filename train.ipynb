{
 "cells": [
  {
   "cell_type": "code",
   "execution_count": null,
   "metadata": {},
   "outputs": [],
   "source": [
    "import numpy as np\n",
    "from keras.callbacks import EarlyStopping\n",
    "from sklearn.model_selection import train_test_split"
   ]
  },
  {
   "cell_type": "code",
   "execution_count": null,
   "metadata": {},
   "outputs": [],
   "source": [
    "from architecture import EIT"
   ]
  },
  {
   "cell_type": "code",
   "execution_count": null,
   "metadata": {},
   "outputs": [],
   "source": [
    "batchSize = 250\n",
    "epochs = 1000\n",
    "optimizer = \"adam\"\n",
    "lossFunction = \"mse\"\n",
    "patience = 20\n",
    "earlyStop = EarlyStopping(monitor = \"val_loss\" ,patience = patience)"
   ]
  },
  {
   "cell_type": "code",
   "execution_count": null,
   "metadata": {},
   "outputs": [],
   "source": [
    "print(\"Importing dataset...\")\n",
    "inputData = np.load(\"../data/711_input.npy\")\n",
    "inputData = np.reshape(inputData, (len(inputData), 32, 32, 1))\n",
    "outputData = np.load(\"../data/711_output.npy\")\n",
    "print(f\"input Data: {inputData.shape}\")\n",
    "print(f\"output Data: {outputData.shape}\")"
   ]
  },
  {
   "cell_type": "code",
   "execution_count": null,
   "metadata": {},
   "outputs": [],
   "source": [
    "xTrain, xTest, yTrain, yTest = train_test_split(inputData, outputData,\n",
    "                                                test_size = 499)\n",
    "print(f\"xTrain: {xTrain.shape}\")\n",
    "print(f\"xTest: {xTest.shape}\")\n",
    "print(f\"yTrain: {yTrain.shape}\")\n",
    "print(f\"yTest: {yTest.shape}\")"
   ]
  },
  {
   "cell_type": "code",
   "execution_count": null,
   "metadata": {},
   "outputs": [],
   "source": [
    "model = EIT().build()\n",
    "model.compile(optimizer = optimizer,\n",
    "              loss = lossFunction,\n",
    "              metrics = [\"mse\"])\n",
    "model.summary()"
   ]
  },
  {
   "cell_type": "code",
   "execution_count": null,
   "metadata": {},
   "outputs": [],
   "source": [
    "history = model.fit(x = xTrain, y = yTrain,\n",
    "                    validation_data = (xTest, yTest),\n",
    "                    epochs = epochs,\n",
    "                    batch_size = batchSize,\n",
    "                    verbose = 1,\n",
    "                    callbacks = [earlyStop])"
   ]
  },
  {
   "cell_type": "code",
   "execution_count": null,
   "metadata": {},
   "outputs": [],
   "source": [
    "print(\"Importing validation data...\")\n",
    "xValidation = np.load(\"../data/1366_seed_A_input.npy\")\n",
    "xValidation = np.reshape(xValidation, (len(xValidation), 32, 32, 1))\n",
    "yValidation = np.load(\"../data/1366_seed_A_output.npy\")\n",
    "print(f\"input Validation Data: {xValidation.shape}\")\n",
    "print(f\"output Validation Data: {yValidation.shape}\")"
   ]
  },
  {
   "cell_type": "code",
   "execution_count": null,
   "metadata": {},
   "outputs": [],
   "source": [
    "score = model.evaluate(x = xValidation, y = yValidation)\n",
    "print(f\"{model.metrics_names[0]}: {score[0]}\")"
   ]
  },
  {
   "cell_type": "code",
   "execution_count": null,
   "metadata": {},
   "outputs": [],
   "source": [
    "print(\"Saving model...\", end = \" \")\n",
    "model.save(\"eit.h5\")\n",
    "print(\"Done\")\n",
    "\n",
    "del model"
   ]
  }
 ],
 "metadata": {
  "kernelspec": {
   "display_name": "Python 3",
   "language": "python",
   "name": "python3"
  },
  "language_info": {
   "codemirror_mode": {
    "name": "ipython",
    "version": 3
   },
   "file_extension": ".py",
   "mimetype": "text/x-python",
   "name": "python",
   "nbconvert_exporter": "python",
   "pygments_lexer": "ipython3",
   "version": "3.7.4"
  }
 },
 "nbformat": 4,
 "nbformat_minor": 2
}
