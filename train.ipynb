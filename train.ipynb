{
 "cells": [
  {
   "cell_type": "code",
   "execution_count": 21,
   "metadata": {},
   "outputs": [],
   "source": [
    "import numpy as np\n",
    "from keras.callbacks import EarlyStopping\n",
    "from sklearn.model_selection import train_test_split\n",
    "import matplotlib.pyplot as plt"
   ]
  },
  {
   "cell_type": "code",
   "execution_count": 2,
   "metadata": {},
   "outputs": [],
   "source": [
    "from architecture import EIT\n",
    "from lenet import lenet"
   ]
  },
  {
   "cell_type": "code",
   "execution_count": 3,
   "metadata": {},
   "outputs": [],
   "source": [
    "batchSize = 250\n",
    "epochs = 1000\n",
    "optimizer = \"adam\"\n",
    "lossFunction = \"mse\"\n",
    "patience = 20\n",
    "earlyStop = EarlyStopping(monitor = \"val_loss\" ,patience = patience)"
   ]
  },
  {
   "cell_type": "code",
   "execution_count": 4,
   "metadata": {},
   "outputs": [
    {
     "name": "stdout",
     "output_type": "stream",
     "text": [
      "Importing dataset...\n",
      "input Data: (10000, 32, 32, 1)\n",
      "output Data: (10000, 1366)\n"
     ]
    }
   ],
   "source": [
    "print(\"Importing dataset...\")\n",
    "inputData = np.load(\"../data/test/1366_seed_A_input.npy\")\n",
    "inputData = np.reshape(inputData, (len(inputData), 32, 32, 1))\n",
    "outputData = np.load(\"../data/test/1366_seed_A_output.npy\")\n",
    "print(f\"input Data: {inputData.shape}\")\n",
    "print(f\"output Data: {outputData.shape}\")"
   ]
  },
  {
   "cell_type": "code",
   "execution_count": 5,
   "metadata": {},
   "outputs": [
    {
     "name": "stdout",
     "output_type": "stream",
     "text": [
      "xTrain: (9501, 32, 32, 1)\n",
      "yTrain: (9501, 1366)\n",
      "xTest:  (499, 32, 32, 1)\n",
      "yTest:  (499, 1366)\n"
     ]
    }
   ],
   "source": [
    "xTrain, xTest, yTrain, yTest = train_test_split(inputData, outputData,\n",
    "                                                test_size = 499)\n",
    "print(f\"xTrain: {xTrain.shape}\")\n",
    "print(f\"yTrain: {yTrain.shape}\")\n",
    "print(f\"xTest:  {xTest.shape}\")\n",
    "print(f\"yTest:  {yTest.shape}\")"
   ]
  },
  {
   "cell_type": "code",
   "execution_count": 6,
   "metadata": {},
   "outputs": [
    {
     "name": "stdout",
     "output_type": "stream",
     "text": [
      "Model: \"sequential_1\"\n",
      "_________________________________________________________________\n",
      "Layer (type)                 Output Shape              Param #   \n",
      "=================================================================\n",
      "conv2d_1 (Conv2D)            (None, 32, 32, 30)        780       \n",
      "_________________________________________________________________\n",
      "max_pooling2d_1 (MaxPooling2 (None, 16, 16, 30)        0         \n",
      "_________________________________________________________________\n",
      "conv2d_2 (Conv2D)            (None, 16, 16, 60)        45060     \n",
      "_________________________________________________________________\n",
      "max_pooling2d_2 (MaxPooling2 (None, 8, 8, 60)          0         \n",
      "_________________________________________________________________\n",
      "flatten_1 (Flatten)          (None, 3840)              0         \n",
      "_________________________________________________________________\n",
      "dense_1 (Dense)              (None, 355)               1363555   \n",
      "_________________________________________________________________\n",
      "dense_2 (Dense)              (None, 1366)              486296    \n",
      "=================================================================\n",
      "Total params: 1,895,691\n",
      "Trainable params: 1,895,691\n",
      "Non-trainable params: 0\n",
      "_________________________________________________________________\n"
     ]
    }
   ],
   "source": [
    "model_eit = EIT().build(numberOfCondValues = 1366)\n",
    "model_eit.compile(optimizer = optimizer,\n",
    "              loss = lossFunction,\n",
    "              metrics = [\"mse\"])\n",
    "model_eit.summary()"
   ]
  },
  {
   "cell_type": "code",
   "execution_count": 7,
   "metadata": {},
   "outputs": [
    {
     "name": "stdout",
     "output_type": "stream",
     "text": [
      "Train on 9501 samples, validate on 499 samples\n",
      "Epoch 1/1000\n",
      "9501/9501 [==============================] - 10s 1ms/step - loss: 0.3995 - mse: 0.3995 - val_loss: 0.3235 - val_mse: 0.3235\n",
      "Epoch 2/1000\n",
      "9501/9501 [==============================] - 2s 226us/step - loss: 0.3202 - mse: 0.3202 - val_loss: 0.3177 - val_mse: 0.3177\n",
      "Epoch 3/1000\n",
      "9501/9501 [==============================] - 2s 227us/step - loss: 0.3141 - mse: 0.3141 - val_loss: 0.3132 - val_mse: 0.3132\n",
      "Epoch 4/1000\n",
      "9501/9501 [==============================] - 2s 226us/step - loss: 0.3118 - mse: 0.3118 - val_loss: 0.3101 - val_mse: 0.3101\n",
      "Epoch 5/1000\n",
      "9501/9501 [==============================] - 2s 226us/step - loss: 0.3049 - mse: 0.3049 - val_loss: 0.2951 - val_mse: 0.2951\n",
      "Epoch 6/1000\n",
      "9501/9501 [==============================] - 2s 225us/step - loss: 0.2851 - mse: 0.2851 - val_loss: 0.2753 - val_mse: 0.2753\n",
      "Epoch 7/1000\n",
      "9501/9501 [==============================] - 2s 226us/step - loss: 0.2584 - mse: 0.2584 - val_loss: 0.2387 - val_mse: 0.2387\n",
      "Epoch 8/1000\n",
      "9501/9501 [==============================] - 2s 227us/step - loss: 0.2221 - mse: 0.2221 - val_loss: 0.2117 - val_mse: 0.2117\n",
      "Epoch 9/1000\n",
      "9501/9501 [==============================] - 2s 227us/step - loss: 0.2016 - mse: 0.2016 - val_loss: 0.1909 - val_mse: 0.1909\n",
      "Epoch 10/1000\n",
      "9501/9501 [==============================] - 2s 230us/step - loss: 0.1810 - mse: 0.1810 - val_loss: 0.1708 - val_mse: 0.1708\n",
      "Epoch 11/1000\n",
      "9501/9501 [==============================] - 2s 233us/step - loss: 0.1505 - mse: 0.1505 - val_loss: 0.1417 - val_mse: 0.1417\n",
      "Epoch 12/1000\n",
      "9501/9501 [==============================] - 2s 234us/step - loss: 0.1378 - mse: 0.1378 - val_loss: 0.1325 - val_mse: 0.1325\n",
      "Epoch 13/1000\n",
      "9501/9501 [==============================] - 2s 231us/step - loss: 0.1264 - mse: 0.1264 - val_loss: 0.1212 - val_mse: 0.1212\n",
      "Epoch 14/1000\n",
      "9501/9501 [==============================] - 2s 235us/step - loss: 0.1197 - mse: 0.1197 - val_loss: 0.1161 - val_mse: 0.1161\n",
      "Epoch 15/1000\n",
      "9501/9501 [==============================] - 2s 236us/step - loss: 0.1132 - mse: 0.1132 - val_loss: 0.1119 - val_mse: 0.1119\n",
      "Epoch 16/1000\n",
      "9501/9501 [==============================] - 2s 233us/step - loss: 0.1119 - mse: 0.1119 - val_loss: 0.1117 - val_mse: 0.1117\n",
      "Epoch 17/1000\n",
      "9501/9501 [==============================] - 2s 241us/step - loss: 0.1078 - mse: 0.1078 - val_loss: 0.1047 - val_mse: 0.1047\n",
      "Epoch 18/1000\n",
      "9501/9501 [==============================] - 2s 239us/step - loss: 0.1041 - mse: 0.1041 - val_loss: 0.1039 - val_mse: 0.1039\n",
      "Epoch 19/1000\n",
      "9501/9501 [==============================] - 2s 240us/step - loss: 0.1034 - mse: 0.1034 - val_loss: 0.1031 - val_mse: 0.1031\n",
      "Epoch 20/1000\n",
      "9501/9501 [==============================] - 2s 239us/step - loss: 0.1032 - mse: 0.1032 - val_loss: 0.1031 - val_mse: 0.1031\n",
      "Epoch 21/1000\n",
      "9501/9501 [==============================] - 2s 240us/step - loss: 0.1032 - mse: 0.1032 - val_loss: 0.1031 - val_mse: 0.1031\n",
      "Epoch 22/1000\n",
      "9501/9501 [==============================] - 2s 239us/step - loss: 0.1032 - mse: 0.1032 - val_loss: 0.1031 - val_mse: 0.1031\n",
      "Epoch 23/1000\n",
      "9501/9501 [==============================] - ETA: 0s - loss: 0.1029 - mse: 0.102 - 2s 244us/step - loss: 0.1029 - mse: 0.1029 - val_loss: 0.1020 - val_mse: 0.1020\n",
      "Epoch 24/1000\n",
      "9501/9501 [==============================] - 2s 248us/step - loss: 0.1019 - mse: 0.1019 - val_loss: 0.1017 - val_mse: 0.1017\n",
      "Epoch 25/1000\n",
      "9501/9501 [==============================] - 2s 240us/step - loss: 0.1018 - mse: 0.1018 - val_loss: 0.1017 - val_mse: 0.1017\n",
      "Epoch 26/1000\n",
      "9501/9501 [==============================] - 2s 250us/step - loss: 0.1018 - mse: 0.1018 - val_loss: 0.1017 - val_mse: 0.1017\n",
      "Epoch 27/1000\n",
      "9501/9501 [==============================] - 2s 248us/step - loss: 0.1018 - mse: 0.1018 - val_loss: 0.1017 - val_mse: 0.1017\n",
      "Epoch 28/1000\n",
      "9501/9501 [==============================] - 2s 260us/step - loss: 0.1018 - mse: 0.1018 - val_loss: 0.1024 - val_mse: 0.1024\n",
      "Epoch 29/1000\n",
      "9501/9501 [==============================] - 2s 249us/step - loss: 0.1014 - mse: 0.1014 - val_loss: 0.1000 - val_mse: 0.1000\n",
      "Epoch 30/1000\n",
      "9501/9501 [==============================] - 2s 251us/step - loss: 0.0998 - mse: 0.0998 - val_loss: 0.0997 - val_mse: 0.09970s - loss: 0.0998 - mse: 0.099\n",
      "Epoch 31/1000\n",
      "9501/9501 [==============================] - 2s 250us/step - loss: 0.0997 - mse: 0.0997 - val_loss: 0.0996 - val_mse: 0.0996\n",
      "Epoch 32/1000\n",
      "9501/9501 [==============================] - 2s 251us/step - loss: 0.0997 - mse: 0.0997 - val_loss: 0.0996 - val_mse: 0.0996: 0.0997 - mse: 0.099 - ETA: 1s - loss: 0.0997 - ETA: 0s - loss: 0.0997 - ms - ETA: 0s - loss: 0.0997 - mse: 0.099\n",
      "Epoch 33/1000\n",
      "9501/9501 [==============================] - 3s 296us/step - loss: 0.0997 - mse: 0.0997 - val_loss: 0.0996 - val_mse: 0.0996\n",
      "Epoch 34/1000\n",
      "9501/9501 [==============================] - 3s 316us/step - loss: 0.0997 - mse: 0.0997 - val_loss: 0.0996 - val_mse: 0.0996\n",
      "Epoch 35/1000\n",
      "9501/9501 [==============================] - 3s 314us/step - loss: 0.0997 - mse: 0.0997 - val_loss: 0.0996 - val_mse: 0.0996\n",
      "Epoch 36/1000\n",
      "9501/9501 [==============================] - 3s 296us/step - loss: 0.0997 - mse: 0.0997 - val_loss: 0.0996 - val_mse: 0.0996\n",
      "Epoch 37/1000\n",
      "9501/9501 [==============================] - 3s 284us/step - loss: 0.0997 - mse: 0.0997 - val_loss: 0.0996 - val_mse: 0.0996\n",
      "Epoch 38/1000\n",
      "9501/9501 [==============================] - 3s 286us/step - loss: 0.0997 - mse: 0.0997 - val_loss: 0.0996 - val_mse: 0.0996\n",
      "Epoch 39/1000\n",
      "9501/9501 [==============================] - 2s 261us/step - loss: 0.0997 - mse: 0.0997 - val_loss: 0.0996 - val_mse: 0.0996\n",
      "Epoch 40/1000\n",
      "9501/9501 [==============================] - 2s 259us/step - loss: 0.0997 - mse: 0.0997 - val_loss: 0.0996 - val_mse: 0.0996\n",
      "Epoch 41/1000\n",
      "9501/9501 [==============================] - 2s 261us/step - loss: 0.0997 - mse: 0.0997 - val_loss: 0.0996 - val_mse: 0.0996\n",
      "Epoch 42/1000\n",
      "9501/9501 [==============================] - 2s 262us/step - loss: 0.0997 - mse: 0.0997 - val_loss: 0.0996 - val_mse: 0.0996\n",
      "Epoch 43/1000\n",
      "9501/9501 [==============================] - 2s 261us/step - loss: 0.0997 - mse: 0.0997 - val_loss: 0.0996 - val_mse: 0.0996\n",
      "Epoch 44/1000\n",
      "9501/9501 [==============================] - 3s 263us/step - loss: 0.0997 - mse: 0.0997 - val_loss: 0.0996 - val_mse: 0.0996\n",
      "Epoch 45/1000\n",
      "9501/9501 [==============================] - 2s 262us/step - loss: 0.1002 - mse: 0.1002 - val_loss: 0.0998 - val_mse: 0.0998\n",
      "Epoch 46/1000\n",
      "9501/9501 [==============================] - 2s 261us/step - loss: 0.0998 - mse: 0.0998 - val_loss: 0.0997 - val_mse: 0.0997\n",
      "Epoch 47/1000\n",
      "9501/9501 [==============================] - 2s 256us/step - loss: 0.0997 - mse: 0.0997 - val_loss: 0.0996 - val_mse: 0.0996\n",
      "Epoch 48/1000\n",
      "9501/9501 [==============================] - 2s 256us/step - loss: 0.0997 - mse: 0.0997 - val_loss: 0.0996 - val_mse: 0.0996\n",
      "Epoch 49/1000\n",
      "9501/9501 [==============================] - 2s 256us/step - loss: 0.0997 - mse: 0.0997 - val_loss: 0.0996 - val_mse: 0.0996\n",
      "Epoch 50/1000\n",
      "9501/9501 [==============================] - 2s 256us/step - loss: 0.0997 - mse: 0.0997 - val_loss: 0.0996 - val_mse: 0.0996\n",
      "Epoch 51/1000\n",
      "9501/9501 [==============================] - 2s 257us/step - loss: 0.0997 - mse: 0.0997 - val_loss: 0.0996 - val_mse: 0.0996\n",
      "Epoch 52/1000\n",
      "9501/9501 [==============================] - 2s 255us/step - loss: 0.0997 - mse: 0.0997 - val_loss: 0.0996 - val_mse: 0.0996\n",
      "Epoch 53/1000\n",
      "9501/9501 [==============================] - 2s 256us/step - loss: 0.0997 - mse: 0.0997 - val_loss: 0.0996 - val_mse: 0.0996\n",
      "Epoch 54/1000\n",
      "9501/9501 [==============================] - 2s 257us/step - loss: 0.1000 - mse: 0.1000 - val_loss: 0.1006 - val_mse: 0.1006\n",
      "Epoch 55/1000\n",
      "9501/9501 [==============================] - 2s 260us/step - loss: 0.0999 - mse: 0.0999 - val_loss: 0.0997 - val_mse: 0.0997\n",
      "Epoch 56/1000\n",
      "9501/9501 [==============================] - 2s 260us/step - loss: 0.0997 - mse: 0.0997 - val_loss: 0.0996 - val_mse: 0.0996\n",
      "Epoch 57/1000\n",
      "9501/9501 [==============================] - 2s 262us/step - loss: 0.0997 - mse: 0.0997 - val_loss: 0.0996 - val_mse: 0.0996\n",
      "Epoch 58/1000\n"
     ]
    },
    {
     "name": "stdout",
     "output_type": "stream",
     "text": [
      "9501/9501 [==============================] - 2s 259us/step - loss: 0.0997 - mse: 0.0997 - val_loss: 0.0996 - val_mse: 0.0996\n",
      "Epoch 59/1000\n",
      "9501/9501 [==============================] - 2s 255us/step - loss: 0.0997 - mse: 0.0997 - val_loss: 0.0996 - val_mse: 0.0996\n",
      "Epoch 60/1000\n",
      "9501/9501 [==============================] - 2s 256us/step - loss: 0.0997 - mse: 0.0997 - val_loss: 0.0996 - val_mse: 0.0996\n",
      "Epoch 61/1000\n",
      "9501/9501 [==============================] - 2s 258us/step - loss: 0.0997 - mse: 0.0997 - val_loss: 0.0996 - val_mse: 0.0996\n",
      "Epoch 62/1000\n",
      "9501/9501 [==============================] - 2s 258us/step - loss: 0.0998 - mse: 0.0998 - val_loss: 0.1007 - val_mse: 0.1007\n",
      "Epoch 63/1000\n",
      "9501/9501 [==============================] - 2s 260us/step - loss: 0.1005 - mse: 0.1005 - val_loss: 0.0992 - val_mse: 0.0992\n",
      "Epoch 64/1000\n",
      "9501/9501 [==============================] - 2s 261us/step - loss: 0.0990 - mse: 0.0990 - val_loss: 0.0989 - val_mse: 0.0989\n",
      "Epoch 65/1000\n",
      "9501/9501 [==============================] - 3s 272us/step - loss: 0.0990 - mse: 0.0990 - val_loss: 0.0989 - val_mse: 0.0989\n",
      "Epoch 66/1000\n",
      "9501/9501 [==============================] - 3s 265us/step - loss: 0.0990 - mse: 0.0990 - val_loss: 0.0989 - val_mse: 0.0989\n",
      "Epoch 67/1000\n",
      "9501/9501 [==============================] - 3s 264us/step - loss: 0.0990 - mse: 0.0990 - val_loss: 0.0989 - val_mse: 0.0989\n",
      "Epoch 68/1000\n",
      "9501/9501 [==============================] - 3s 266us/step - loss: 0.0990 - mse: 0.0990 - val_loss: 0.0989 - val_mse: 0.0989\n",
      "Epoch 69/1000\n",
      "9501/9501 [==============================] - 3s 267us/step - loss: 0.0990 - mse: 0.0990 - val_loss: 0.0989 - val_mse: 0.0989\n",
      "Epoch 70/1000\n",
      "9501/9501 [==============================] - 3s 268us/step - loss: 0.0990 - mse: 0.0990 - val_loss: 0.0989 - val_mse: 0.0989\n",
      "Epoch 71/1000\n",
      "9501/9501 [==============================] - 3s 273us/step - loss: 0.0990 - mse: 0.0990 - val_loss: 0.0989 - val_mse: 0.0989\n",
      "Epoch 72/1000\n",
      "9501/9501 [==============================] - 3s 266us/step - loss: 0.0990 - mse: 0.0990 - val_loss: 0.0989 - val_mse: 0.0989\n",
      "Epoch 73/1000\n",
      "9501/9501 [==============================] - 3s 265us/step - loss: 0.0990 - mse: 0.0990 - val_loss: 0.0989 - val_mse: 0.0989\n",
      "Epoch 74/1000\n",
      "9501/9501 [==============================] - 3s 285us/step - loss: 0.0990 - mse: 0.0990 - val_loss: 0.0989 - val_mse: 0.0989\n",
      "Epoch 75/1000\n",
      "9501/9501 [==============================] - 3s 273us/step - loss: 0.0990 - mse: 0.0990 - val_loss: 0.0989 - val_mse: 0.0989\n",
      "Epoch 76/1000\n",
      "9501/9501 [==============================] - 2s 262us/step - loss: 0.0990 - mse: 0.0990 - val_loss: 0.0989 - val_mse: 0.0989\n",
      "Epoch 77/1000\n",
      "9501/9501 [==============================] - 2s 259us/step - loss: 0.0990 - mse: 0.0990 - val_loss: 0.0989 - val_mse: 0.0989\n",
      "Epoch 78/1000\n",
      "9501/9501 [==============================] - 2s 261us/step - loss: 0.0990 - mse: 0.0990 - val_loss: 0.0989 - val_mse: 0.0989\n",
      "Epoch 79/1000\n",
      "9501/9501 [==============================] - 2s 259us/step - loss: 0.0990 - mse: 0.0990 - val_loss: 0.0989 - val_mse: 0.0989\n",
      "Epoch 80/1000\n",
      "9501/9501 [==============================] - 2s 256us/step - loss: 0.0990 - mse: 0.0990 - val_loss: 0.0989 - val_mse: 0.0989\n",
      "Epoch 81/1000\n",
      "9501/9501 [==============================] - 2s 256us/step - loss: 0.0990 - mse: 0.0990 - val_loss: 0.0990 - val_mse: 0.0990\n",
      "Epoch 82/1000\n",
      "9501/9501 [==============================] - 2s 257us/step - loss: 0.0992 - mse: 0.0992 - val_loss: 0.0991 - val_mse: 0.0991\n",
      "Epoch 83/1000\n",
      "9501/9501 [==============================] - 2s 258us/step - loss: 0.0991 - mse: 0.0991 - val_loss: 0.0989 - val_mse: 0.0989\n",
      "Epoch 84/1000\n",
      "9501/9501 [==============================] - 2s 256us/step - loss: 0.0990 - mse: 0.0990 - val_loss: 0.0989 - val_mse: 0.0989\n",
      "Epoch 85/1000\n",
      "9501/9501 [==============================] - 2s 256us/step - loss: 0.0990 - mse: 0.0990 - val_loss: 0.0989 - val_mse: 0.0989\n",
      "Epoch 86/1000\n",
      "9501/9501 [==============================] - 2s 259us/step - loss: 0.0990 - mse: 0.0990 - val_loss: 0.0989 - val_mse: 0.0989\n",
      "Epoch 87/1000\n",
      "9501/9501 [==============================] - 2s 256us/step - loss: 0.0990 - mse: 0.0990 - val_loss: 0.0992 - val_mse: 0.0992\n",
      "Epoch 88/1000\n",
      "9501/9501 [==============================] - 2s 256us/step - loss: 0.0992 - mse: 0.0992 - val_loss: 0.0991 - val_mse: 0.0991\n",
      "Epoch 89/1000\n",
      "9501/9501 [==============================] - 2s 256us/step - loss: 0.0990 - mse: 0.0990 - val_loss: 0.0989 - val_mse: 0.0989\n",
      "Epoch 90/1000\n",
      "9501/9501 [==============================] - 2s 258us/step - loss: 0.0990 - mse: 0.0990 - val_loss: 0.0989 - val_mse: 0.0989\n",
      "Epoch 91/1000\n",
      "9501/9501 [==============================] - 2s 262us/step - loss: 0.0990 - mse: 0.0990 - val_loss: 0.0989 - val_mse: 0.0989\n",
      "Epoch 92/1000\n",
      "9501/9501 [==============================] - 2s 258us/step - loss: 0.0990 - mse: 0.0990 - val_loss: 0.0989 - val_mse: 0.0989\n",
      "Epoch 93/1000\n",
      "9501/9501 [==============================] - 2s 259us/step - loss: 0.0990 - mse: 0.0990 - val_loss: 0.0989 - val_mse: 0.0989\n",
      "Epoch 94/1000\n",
      "9501/9501 [==============================] - 2s 257us/step - loss: 0.0992 - mse: 0.0992 - val_loss: 0.0996 - val_mse: 0.0996\n",
      "Epoch 95/1000\n",
      "9501/9501 [==============================] - 2s 257us/step - loss: 0.0997 - mse: 0.0997 - val_loss: 0.0992 - val_mse: 0.0992\n",
      "Epoch 96/1000\n",
      "9501/9501 [==============================] - 2s 257us/step - loss: 0.0990 - mse: 0.0990 - val_loss: 0.0989 - val_mse: 0.0989\n",
      "Epoch 97/1000\n",
      "9501/9501 [==============================] - 2s 259us/step - loss: 0.0990 - mse: 0.0990 - val_loss: 0.0989 - val_mse: 0.0989\n",
      "Epoch 98/1000\n",
      "9501/9501 [==============================] - 2s 255us/step - loss: 0.0990 - mse: 0.0990 - val_loss: 0.0989 - val_mse: 0.0989\n",
      "Epoch 99/1000\n",
      "9501/9501 [==============================] - 2s 258us/step - loss: 0.0990 - mse: 0.0990 - val_loss: 0.0989 - val_mse: 0.0989\n",
      "Epoch 100/1000\n",
      "9501/9501 [==============================] - 2s 257us/step - loss: 0.0990 - mse: 0.0990 - val_loss: 0.0989 - val_mse: 0.0989\n",
      "Epoch 101/1000\n",
      "9501/9501 [==============================] - 2s 259us/step - loss: 0.0990 - mse: 0.0990 - val_loss: 0.0989 - val_mse: 0.0989\n",
      "Epoch 102/1000\n",
      "9501/9501 [==============================] - 2s 258us/step - loss: 0.0990 - mse: 0.0990 - val_loss: 0.0989 - val_mse: 0.0989\n",
      "Epoch 103/1000\n",
      "9501/9501 [==============================] - 2s 256us/step - loss: 0.0990 - mse: 0.0990 - val_loss: 0.0989 - val_mse: 0.0989\n",
      "Epoch 104/1000\n",
      "9501/9501 [==============================] - 2s 256us/step - loss: 0.0990 - mse: 0.0990 - val_loss: 0.0989 - val_mse: 0.0989\n",
      "Epoch 105/1000\n",
      "9501/9501 [==============================] - 2s 255us/step - loss: 0.0990 - mse: 0.0990 - val_loss: 0.0989 - val_mse: 0.0989\n",
      "Epoch 106/1000\n",
      "9501/9501 [==============================] - 2s 257us/step - loss: 0.0990 - mse: 0.0990 - val_loss: 0.0989 - val_mse: 0.0989\n",
      "Epoch 107/1000\n",
      "9501/9501 [==============================] - 2s 259us/step - loss: 0.0990 - mse: 0.0990 - val_loss: 0.0989 - val_mse: 0.0989\n",
      "Epoch 108/1000\n",
      "9501/9501 [==============================] - 2s 257us/step - loss: 0.0990 - mse: 0.0990 - val_loss: 0.0989 - val_mse: 0.0989\n",
      "Epoch 109/1000\n",
      "9501/9501 [==============================] - 2s 258us/step - loss: 0.0991 - mse: 0.0991 - val_loss: 0.0989 - val_mse: 0.0989\n",
      "Epoch 110/1000\n",
      "9501/9501 [==============================] - 2s 263us/step - loss: 0.0990 - mse: 0.0990 - val_loss: 0.0989 - val_mse: 0.0989\n",
      "Epoch 111/1000\n",
      "9501/9501 [==============================] - 2s 262us/step - loss: 0.0990 - mse: 0.0990 - val_loss: 0.0989 - val_mse: 0.0989\n",
      "Epoch 112/1000\n",
      "9501/9501 [==============================] - 2s 254us/step - loss: 0.0990 - mse: 0.0990 - val_loss: 0.0989 - val_mse: 0.0989\n",
      "Epoch 113/1000\n",
      "9501/9501 [==============================] - 2s 260us/step - loss: 0.0991 - mse: 0.0991 - val_loss: 0.0991 - val_mse: 0.0991\n"
     ]
    }
   ],
   "source": [
    "history_eit = model_eit.fit(x = xTrain, y = yTrain,\n",
    "                            validation_data = (xTest, yTest),\n",
    "                            epochs = epochs,\n",
    "                            batch_size = batchSize,\n",
    "                            verbose = 1,\n",
    "                            callbacks = [earlyStop])"
   ]
  },
  {
   "cell_type": "code",
   "execution_count": 8,
   "metadata": {},
   "outputs": [
    {
     "name": "stdout",
     "output_type": "stream",
     "text": [
      "Importing validation data...\n",
      "input Validation Data:  (10000, 32, 32, 1)\n",
      "output Validation Data: (10000, 1366)\n"
     ]
    }
   ],
   "source": [
    "print(\"Importing validation data...\")\n",
    "xValidation = np.load(\"../data/1366_seed_A_input.npy\")\n",
    "xValidation = np.reshape(xValidation, (len(xValidation), 32, 32, 1))\n",
    "yValidation = np.load(\"../data/1366_seed_A_output.npy\")\n",
    "print(f\"input Validation Data:  {xValidation.shape}\")\n",
    "print(f\"output Validation Data: {yValidation.shape}\")"
   ]
  },
  {
   "cell_type": "code",
   "execution_count": 9,
   "metadata": {},
   "outputs": [
    {
     "name": "stdout",
     "output_type": "stream",
     "text": [
      "10000/10000 [==============================] - 2s 181us/step\n",
      "loss: 0.0992245996952057\n"
     ]
    }
   ],
   "source": [
    "score = model_eit.evaluate(x = xValidation, y = yValidation)\n",
    "print(f\"{model_eit.metrics_names[0]}: {score[0]}\")"
   ]
  },
  {
   "cell_type": "code",
   "execution_count": 10,
   "metadata": {},
   "outputs": [
    {
     "name": "stdout",
     "output_type": "stream",
     "text": [
      "Saving model... Done\n"
     ]
    }
   ],
   "source": [
    "print(\"Saving model...\", end = \" \")\n",
    "model_eit.save(\"eit.h5\")\n",
    "print(\"Done\")\n",
    "\n",
    "del model"
   ]
  },
  {
   "cell_type": "code",
   "execution_count": 20,
   "metadata": {},
   "outputs": [
    {
     "name": "stdout",
     "output_type": "stream",
     "text": [
      "dict_keys(['val_loss', 'val_mse', 'loss', 'mse'])\n"
     ]
    }
   ],
   "source": [
    "print(history.history.keys())"
   ]
  },
  {
   "cell_type": "code",
   "execution_count": 32,
   "metadata": {},
   "outputs": [
    {
     "data": {
      "image/png": "[encoded data removed]",
      "text/plain": [
       "<Figure size 720x360 with 1 Axes>"
      ]
     },
     "metadata": {
      "needs_background": "light"
     },
     "output_type": "display_data"
    }
   ],
   "source": [
    "%matplotlib inline\n",
    "plt.figure(figsize = (10,5))\n",
    "plt.plot(history.history['mse'], label = \"MSE\")\n",
    "plt.plot(history.history['val_mse'], label = \"val_mse\")\n",
    "plt.ylabel(\"Training Loss\")\n",
    "plt.xlabel(\"No. epoch\")\n",
    "plt.legend(loc=\"upper left\")\n",
    "plt.show()"
   ]
  }
 ],
 "metadata": {
  "kernelspec": {
   "display_name": "Python 3",
   "language": "python",
   "name": "python3"
  },
  "language_info": {
   "codemirror_mode": {
    "name": "ipython",
    "version": 3
   },
   "file_extension": ".py",
   "mimetype": "text/x-python",
   "name": "python",
   "nbconvert_exporter": "python",
   "pygments_lexer": "ipython3",
   "version": "3.7.4"
  }
 },
 "nbformat": 4,
 "nbformat_minor": 2
}
