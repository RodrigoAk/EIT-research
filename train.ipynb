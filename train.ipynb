{
 "cells": [
  {
   "cell_type": "code",
   "execution_count": 1,
   "metadata": {},
   "outputs": [
    {
     "name": "stderr",
     "output_type": "stream",
     "text": [
      "Using TensorFlow backend.\n"
     ]
    }
   ],
   "source": [
    "import numpy as np\n",
    "from keras.callbacks import EarlyStopping\n",
    "from sklearn.model_selection import train_test_split\n",
    "import matplotlib.pyplot as plt"
   ]
  },
  {
   "cell_type": "code",
   "execution_count": 2,
   "metadata": {},
   "outputs": [],
   "source": [
    "from architecture import EIT\n",
    "from lenet import lenet"
   ]
  },
  {
   "cell_type": "code",
   "execution_count": 3,
   "metadata": {},
   "outputs": [],
   "source": [
    "batchSize = 250\n",
    "epochs = 1000\n",
    "optimizer = \"adam\"\n",
    "lossFunction = \"mse\"\n",
    "patience = 20\n",
    "earlyStop = EarlyStopping(monitor = \"val_loss\" ,patience = patience)"
   ]
  },
  {
   "cell_type": "code",
   "execution_count": 10,
   "metadata": {},
   "outputs": [
    {
     "name": "stdout",
     "output_type": "stream",
     "text": [
      "Importing dataset...\n",
      "input Data: (10000, 32, 32, 1)\n",
      "output Data: (10000, 1366)\n"
     ]
    }
   ],
   "source": [
    "print(\"Importing dataset...\")\n",
    "inputData = np.load(\"../data/1366_seed_A_input.npy\")\n",
    "inputData = np.reshape(inputData, (len(inputData), 32, 32, 1))\n",
    "outputData = np.load(\"../data/1366_seed_A_output.npy\")\n",
    "print(f\"input Data: {inputData.shape}\")\n",
    "print(f\"output Data: {outputData.shape}\")"
   ]
  },
  {
   "cell_type": "code",
   "execution_count": 5,
   "metadata": {},
   "outputs": [
    {
     "name": "stdout",
     "output_type": "stream",
     "text": [
      "xTrain: (9500, 32, 32, 1)\n",
      "yTrain: (9500, 1366)\n",
      "xTest:  (500, 32, 32, 1)\n",
      "yTest:  (500, 1366)\n"
     ]
    }
   ],
   "source": [
    "xTrain, xTest, yTrain, yTest = train_test_split(inputData, outputData,\n",
    "                                                test_size = 500)\n",
    "print(f\"xTrain: {xTrain.shape}\")\n",
    "print(f\"yTrain: {yTrain.shape}\")\n",
    "print(f\"xTest:  {xTest.shape}\")\n",
    "print(f\"yTest:  {yTest.shape}\")"
   ]
  },
  {
   "cell_type": "code",
   "execution_count": 6,
   "metadata": {},
   "outputs": [
    {
     "name": "stdout",
     "output_type": "stream",
     "text": [
      "Model: \"sequential_1\"\n",
      "_________________________________________________________________\n",
      "Layer (type)                 Output Shape              Param #   \n",
      "=================================================================\n",
      "conv2d_1 (Conv2D)            (None, 32, 32, 30)        780       \n",
      "_________________________________________________________________\n",
      "max_pooling2d_1 (MaxPooling2 (None, 16, 16, 30)        0         \n",
      "_________________________________________________________________\n",
      "conv2d_2 (Conv2D)            (None, 16, 16, 60)        45060     \n",
      "_________________________________________________________________\n",
      "max_pooling2d_2 (MaxPooling2 (None, 8, 8, 60)          0         \n",
      "_________________________________________________________________\n",
      "flatten_1 (Flatten)          (None, 3840)              0         \n",
      "_________________________________________________________________\n",
      "dense_1 (Dense)              (None, 355)               1363555   \n",
      "_________________________________________________________________\n",
      "dense_2 (Dense)              (None, 1366)              486296    \n",
      "=================================================================\n",
      "Total params: 1,895,691\n",
      "Trainable params: 1,895,691\n",
      "Non-trainable params: 0\n",
      "_________________________________________________________________\n"
     ]
    }
   ],
   "source": [
    "model_eit = EIT().build(numberOfCondValues = 1366)\n",
    "model_eit.compile(optimizer = optimizer,\n",
    "              loss = lossFunction,\n",
    "              metrics = [\"mse\"])\n",
    "model_eit.summary()"
   ]
  },
  {
   "cell_type": "code",
   "execution_count": 7,
   "metadata": {},
   "outputs": [
    {
     "name": "stdout",
     "output_type": "stream",
     "text": [
      "Train on 9500 samples, validate on 500 samples\n",
      "Epoch 1/1000\n",
      "9500/9500 [==============================] - 11s 1ms/step - loss: 0.4172 - mse: 0.4172 - val_loss: 0.3359 - val_mse: 0.3359\n",
      "Epoch 2/1000\n",
      "9500/9500 [==============================] - 2s 228us/step - loss: 0.3326 - mse: 0.3326 - val_loss: 0.3310 - val_mse: 0.3310\n",
      "Epoch 3/1000\n",
      "9500/9500 [==============================] - 2s 229us/step - loss: 0.3307 - mse: 0.3307 - val_loss: 0.3302 - val_mse: 0.3302\n",
      "Epoch 4/1000\n",
      "9500/9500 [==============================] - 2s 229us/step - loss: 0.3287 - mse: 0.3287 - val_loss: 0.3263 - val_mse: 0.3263\n",
      "Epoch 5/1000\n",
      "9500/9500 [==============================] - 2s 229us/step - loss: 0.3242 - mse: 0.3242 - val_loss: 0.3198 - val_mse: 0.3198\n",
      "Epoch 6/1000\n",
      "9500/9500 [==============================] - 2s 233us/step - loss: 0.3162 - mse: 0.3162 - val_loss: 0.3120 - val_mse: 0.3120\n",
      "Epoch 7/1000\n",
      "9500/9500 [==============================] - 2s 229us/step - loss: 0.3078 - mse: 0.3078 - val_loss: 0.2990 - val_mse: 0.2990\n",
      "Epoch 8/1000\n",
      "9500/9500 [==============================] - 2s 229us/step - loss: 0.2858 - mse: 0.2858 - val_loss: 0.2731 - val_mse: 0.2731\n",
      "Epoch 9/1000\n",
      "9500/9500 [==============================] - 2s 228us/step - loss: 0.2666 - mse: 0.2666 - val_loss: 0.2516 - val_mse: 0.2516\n",
      "Epoch 10/1000\n",
      "9500/9500 [==============================] - 2s 229us/step - loss: 0.2335 - mse: 0.2335 - val_loss: 0.2166 - val_mse: 0.2166\n",
      "Epoch 11/1000\n",
      "9500/9500 [==============================] - 2s 232us/step - loss: 0.2089 - mse: 0.2089 - val_loss: 0.2026 - val_mse: 0.2026\n",
      "Epoch 12/1000\n",
      "9500/9500 [==============================] - 2s 232us/step - loss: 0.1974 - mse: 0.1974 - val_loss: 0.1896 - val_mse: 0.1896\n",
      "Epoch 13/1000\n",
      "9500/9500 [==============================] - 2s 233us/step - loss: 0.1815 - mse: 0.1815 - val_loss: 0.1702 - val_mse: 0.1702\n",
      "Epoch 14/1000\n",
      "9500/9500 [==============================] - 2s 231us/step - loss: 0.1641 - mse: 0.1641 - val_loss: 0.1569 - val_mse: 0.1569\n",
      "Epoch 15/1000\n",
      "9500/9500 [==============================] - 2s 232us/step - loss: 0.1518 - mse: 0.1518 - val_loss: 0.1426 - val_mse: 0.1426\n",
      "Epoch 16/1000\n",
      "9500/9500 [==============================] - 2s 235us/step - loss: 0.1414 - mse: 0.1414 - val_loss: 0.1404 - val_mse: 0.1404\n",
      "Epoch 17/1000\n",
      "9500/9500 [==============================] - 2s 233us/step - loss: 0.1372 - mse: 0.1372 - val_loss: 0.1356 - val_mse: 0.1356\n",
      "Epoch 18/1000\n",
      "9500/9500 [==============================] - 2s 237us/step - loss: 0.1341 - mse: 0.1341 - val_loss: 0.1325 - val_mse: 0.1325\n",
      "Epoch 19/1000\n",
      "9500/9500 [==============================] - 2s 239us/step - loss: 0.1323 - mse: 0.1323 - val_loss: 0.1323 - val_mse: 0.1323\n",
      "Epoch 20/1000\n",
      "9500/9500 [==============================] - 2s 237us/step - loss: 0.1318 - mse: 0.1318 - val_loss: 0.1288 - val_mse: 0.1288\n",
      "Epoch 21/1000\n",
      "9500/9500 [==============================] - 2s 239us/step - loss: 0.1270 - mse: 0.1270 - val_loss: 0.1267 - val_mse: 0.1267\n",
      "Epoch 22/1000\n",
      "9500/9500 [==============================] - 2s 238us/step - loss: 0.1266 - mse: 0.1266 - val_loss: 0.1267 - val_mse: 0.1267\n",
      "Epoch 23/1000\n",
      "9500/9500 [==============================] - 2s 239us/step - loss: 0.1266 - mse: 0.1266 - val_loss: 0.1267 - val_mse: 0.1267\n",
      "Epoch 24/1000\n",
      "9500/9500 [==============================] - 2s 238us/step - loss: 0.1266 - mse: 0.1266 - val_loss: 0.1273 - val_mse: 0.1273\n",
      "Epoch 25/1000\n",
      "9500/9500 [==============================] - 2s 242us/step - loss: 0.1270 - mse: 0.1270 - val_loss: 0.1267 - val_mse: 0.1267\n",
      "Epoch 26/1000\n",
      "9500/9500 [==============================] - 2s 240us/step - loss: 0.1266 - mse: 0.1266 - val_loss: 0.1267 - val_mse: 0.1267\n",
      "Epoch 27/1000\n",
      "9500/9500 [==============================] - 2s 240us/step - loss: 0.1266 - mse: 0.1266 - val_loss: 0.1267 - val_mse: 0.1267\n",
      "Epoch 28/1000\n",
      "9500/9500 [==============================] - 2s 239us/step - loss: 0.1266 - mse: 0.1266 - val_loss: 0.1267 - val_mse: 0.1267\n",
      "Epoch 29/1000\n",
      "9500/9500 [==============================] - 2s 245us/step - loss: 0.1266 - mse: 0.1266 - val_loss: 0.1267 - val_mse: 0.1267\n",
      "Epoch 30/1000\n",
      "9500/9500 [==============================] - 2s 245us/step - loss: 0.1266 - mse: 0.1266 - val_loss: 0.1267 - val_mse: 0.1267\n",
      "Epoch 31/1000\n",
      "9500/9500 [==============================] - 2s 250us/step - loss: 0.1266 - mse: 0.1266 - val_loss: 0.1267 - val_mse: 0.1267\n",
      "Epoch 32/1000\n",
      "9500/9500 [==============================] - 2s 244us/step - loss: 0.1272 - mse: 0.1272 - val_loss: 0.1268 - val_mse: 0.1268\n",
      "Epoch 33/1000\n",
      "9500/9500 [==============================] - 2s 246us/step - loss: 0.1266 - mse: 0.1266 - val_loss: 0.1267 - val_mse: 0.1267\n",
      "Epoch 34/1000\n",
      "9500/9500 [==============================] - 2s 248us/step - loss: 0.1266 - mse: 0.1266 - val_loss: 0.1267 - val_mse: 0.1267\n",
      "Epoch 35/1000\n",
      "9500/9500 [==============================] - 2s 247us/step - loss: 0.1266 - mse: 0.1266 - val_loss: 0.1267 - val_mse: 0.1267\n",
      "Epoch 36/1000\n",
      "9500/9500 [==============================] - 2s 253us/step - loss: 0.1266 - mse: 0.1266 - val_loss: 0.1267 - val_mse: 0.1267\n",
      "Epoch 37/1000\n",
      "9500/9500 [==============================] - 2s 248us/step - loss: 0.1266 - mse: 0.1266 - val_loss: 0.1267 - val_mse: 0.1267\n",
      "Epoch 38/1000\n",
      "9500/9500 [==============================] - 2s 252us/step - loss: 0.1266 - mse: 0.1266 - val_loss: 0.1267 - val_mse: 0.1267\n",
      "Epoch 39/1000\n",
      "9500/9500 [==============================] - 2s 251us/step - loss: 0.1266 - mse: 0.1266 - val_loss: 0.1267 - val_mse: 0.1267\n",
      "Epoch 40/1000\n",
      "9500/9500 [==============================] - 2s 247us/step - loss: 0.1266 - mse: 0.1266 - val_loss: 0.1267 - val_mse: 0.1267\n",
      "Epoch 41/1000\n",
      "9500/9500 [==============================] - 2s 253us/step - loss: 0.1268 - mse: 0.1268 - val_loss: 0.1267 - val_mse: 0.1267\n",
      "Epoch 42/1000\n",
      "9500/9500 [==============================] - 2s 255us/step - loss: 0.1266 - mse: 0.1266 - val_loss: 0.1267 - val_mse: 0.1267\n",
      "Epoch 43/1000\n",
      "9500/9500 [==============================] - 2s 253us/step - loss: 0.1266 - mse: 0.1266 - val_loss: 0.1267 - val_mse: 0.1267\n",
      "Epoch 44/1000\n",
      "9500/9500 [==============================] - 2s 251us/step - loss: 0.1266 - mse: 0.1266 - val_loss: 0.1267 - val_mse: 0.1267\n",
      "Epoch 45/1000\n",
      "9500/9500 [==============================] - 2s 251us/step - loss: 0.1267 - mse: 0.1267 - val_loss: 0.1283 - val_mse: 0.1283\n",
      "Epoch 46/1000\n",
      "9500/9500 [==============================] - 2s 251us/step - loss: 0.1270 - mse: 0.1270 - val_loss: 0.1267 - val_mse: 0.1267\n",
      "Epoch 47/1000\n",
      "9500/9500 [==============================] - 3s 278us/step - loss: 0.1266 - mse: 0.1266 - val_loss: 0.1267 - val_mse: 0.1267\n",
      "Epoch 48/1000\n",
      "9500/9500 [==============================] - 2s 255us/step - loss: 0.1266 - mse: 0.1266 - val_loss: 0.1267 - val_mse: 0.1267\n",
      "Epoch 49/1000\n",
      "9500/9500 [==============================] - 2s 257us/step - loss: 0.1266 - mse: 0.1266 - val_loss: 0.1267 - val_mse: 0.1267\n",
      "Epoch 50/1000\n",
      "9500/9500 [==============================] - 3s 299us/step - loss: 0.1266 - mse: 0.1266 - val_loss: 0.1267 - val_mse: 0.1267\n",
      "Epoch 51/1000\n",
      "9500/9500 [==============================] - 2s 262us/step - loss: 0.1266 - mse: 0.1266 - val_loss: 0.1267 - val_mse: 0.1267\n",
      "Epoch 52/1000\n",
      "9500/9500 [==============================] - 2s 262us/step - loss: 0.1266 - mse: 0.1266 - val_loss: 0.1267 - val_mse: 0.1267\n",
      "Epoch 53/1000\n",
      "9500/9500 [==============================] - 2s 262us/step - loss: 0.1266 - mse: 0.1266 - val_loss: 0.1267 - val_mse: 0.1267\n",
      "Epoch 54/1000\n",
      "9500/9500 [==============================] - 2s 263us/step - loss: 0.1266 - mse: 0.1266 - val_loss: 0.1268 - val_mse: 0.1268\n",
      "Epoch 55/1000\n",
      "9500/9500 [==============================] - 2s 263us/step - loss: 0.1268 - mse: 0.1268 - val_loss: 0.1267 - val_mse: 0.1267\n",
      "Epoch 56/1000\n",
      "9500/9500 [==============================] - 2s 262us/step - loss: 0.1266 - mse: 0.1266 - val_loss: 0.1267 - val_mse: 0.1267\n",
      "Epoch 57/1000\n",
      "9500/9500 [==============================] - 2s 262us/step - loss: 0.1266 - mse: 0.1266 - val_loss: 0.1267 - val_mse: 0.126766 - m\n",
      "Epoch 58/1000\n",
      "9500/9500 [==============================] - 2s 262us/step - loss: 0.1266 - mse: 0.1266 - val_loss: 0.1267 - val_mse: 0.1267\n",
      "Epoch 59/1000\n"
     ]
    },
    {
     "name": "stdout",
     "output_type": "stream",
     "text": [
      "9500/9500 [==============================] - 2s 263us/step - loss: 0.1266 - mse: 0.1266 - val_loss: 0.1270 - val_mse: 0.1270\n",
      "Epoch 60/1000\n",
      "9500/9500 [==============================] - 3s 263us/step - loss: 0.1273 - mse: 0.1273 - val_loss: 0.1267 - val_mse: 0.1267\n",
      "Epoch 61/1000\n",
      "9500/9500 [==============================] - 2s 263us/step - loss: 0.1266 - mse: 0.1266 - val_loss: 0.1267 - val_mse: 0.1267\n",
      "Epoch 62/1000\n",
      "9500/9500 [==============================] - 3s 263us/step - loss: 0.1266 - mse: 0.1266 - val_loss: 0.1267 - val_mse: 0.1267\n",
      "Epoch 63/1000\n",
      "9500/9500 [==============================] - 2s 263us/step - loss: 0.1266 - mse: 0.1266 - val_loss: 0.1267 - val_mse: 0.1267\n",
      "Epoch 64/1000\n",
      "9500/9500 [==============================] - 3s 264us/step - loss: 0.1266 - mse: 0.1266 - val_loss: 0.1267 - val_mse: 0.1267\n",
      "Epoch 65/1000\n",
      "9500/9500 [==============================] - 3s 263us/step - loss: 0.1266 - mse: 0.1266 - val_loss: 0.1267 - val_mse: 0.1267\n",
      "Epoch 66/1000\n",
      "9500/9500 [==============================] - 2s 263us/step - loss: 0.1266 - mse: 0.1266 - val_loss: 0.1267 - val_mse: 0.1267\n",
      "Epoch 67/1000\n",
      "9500/9500 [==============================] - 2s 263us/step - loss: 0.1266 - mse: 0.1266 - val_loss: 0.1267 - val_mse: 0.1267\n",
      "Epoch 68/1000\n",
      "9500/9500 [==============================] - 2s 263us/step - loss: 0.1266 - mse: 0.1266 - val_loss: 0.1267 - val_mse: 0.1267\n",
      "Epoch 69/1000\n",
      "9500/9500 [==============================] - 3s 264us/step - loss: 0.1266 - mse: 0.1266 - val_loss: 0.1267 - val_mse: 0.1267\n",
      "Epoch 70/1000\n",
      "9500/9500 [==============================] - 3s 264us/step - loss: 0.1266 - mse: 0.1266 - val_loss: 0.1267 - val_mse: 0.1267\n",
      "Epoch 71/1000\n",
      "9500/9500 [==============================] - 2s 263us/step - loss: 0.1266 - mse: 0.1266 - val_loss: 0.1270 - val_mse: 0.1270\n",
      "Epoch 72/1000\n",
      "9500/9500 [==============================] - 2s 263us/step - loss: 0.1269 - mse: 0.1269 - val_loss: 0.1267 - val_mse: 0.1267\n",
      "Epoch 73/1000\n",
      "9500/9500 [==============================] - 2s 263us/step - loss: 0.1266 - mse: 0.1266 - val_loss: 0.1267 - val_mse: 0.1267\n",
      "Epoch 74/1000\n",
      "9500/9500 [==============================] - 3s 263us/step - loss: 0.1266 - mse: 0.1266 - val_loss: 0.1267 - val_mse: 0.1267\n",
      "Epoch 75/1000\n",
      "9500/9500 [==============================] - 2s 263us/step - loss: 0.1266 - mse: 0.1266 - val_loss: 0.1267 - val_mse: 0.12672\n",
      "Epoch 76/1000\n",
      "9500/9500 [==============================] - 2s 263us/step - loss: 0.1266 - mse: 0.1266 - val_loss: 0.1267 - val_mse: 0.1267\n",
      "Epoch 77/1000\n",
      "9500/9500 [==============================] - 2s 263us/step - loss: 0.1266 - mse: 0.1266 - val_loss: 0.1267 - val_mse: 0.1267\n",
      "Epoch 78/1000\n",
      "9500/9500 [==============================] - 3s 264us/step - loss: 0.1266 - mse: 0.1266 - val_loss: 0.1267 - val_mse: 0.1267\n",
      "Epoch 79/1000\n",
      "9500/9500 [==============================] - 3s 263us/step - loss: 0.1268 - mse: 0.1268 - val_loss: 0.1267 - val_mse: 0.1267\n",
      "Epoch 80/1000\n",
      "9500/9500 [==============================] - 2s 263us/step - loss: 0.1266 - mse: 0.1266 - val_loss: 0.1267 - val_mse: 0.1267\n",
      "Epoch 81/1000\n",
      "9500/9500 [==============================] - 2s 263us/step - loss: 0.1266 - mse: 0.1266 - val_loss: 0.1267 - val_mse: 0.1267\n",
      "Epoch 82/1000\n",
      "9500/9500 [==============================] - 3s 265us/step - loss: 0.1266 - mse: 0.1266 - val_loss: 0.1267 - val_mse: 0.1267\n",
      "Epoch 83/1000\n",
      "9500/9500 [==============================] - 3s 264us/step - loss: 0.1266 - mse: 0.1266 - val_loss: 0.1267 - val_mse: 0.1267\n",
      "Epoch 84/1000\n",
      "9500/9500 [==============================] - 3s 263us/step - loss: 0.1270 - mse: 0.1270 - val_loss: 0.1267 - val_mse: 0.1267\n",
      "Epoch 85/1000\n",
      "9500/9500 [==============================] - 2s 263us/step - loss: 0.1266 - mse: 0.1266 - val_loss: 0.1267 - val_mse: 0.1267\n",
      "Epoch 86/1000\n",
      "9500/9500 [==============================] - 3s 263us/step - loss: 0.1266 - mse: 0.1266 - val_loss: 0.1267 - val_mse: 0.1267\n",
      "Epoch 87/1000\n",
      "9500/9500 [==============================] - 2s 262us/step - loss: 0.1266 - mse: 0.1266 - val_loss: 0.1267 - val_mse: 0.1267\n",
      "Epoch 88/1000\n",
      "9500/9500 [==============================] - 2s 263us/step - loss: 0.1266 - mse: 0.1266 - val_loss: 0.1267 - val_mse: 0.1267\n",
      "Epoch 89/1000\n",
      "9500/9500 [==============================] - 3s 265us/step - loss: 0.1266 - mse: 0.1266 - val_loss: 0.1267 - val_mse: 0.1267\n",
      "Epoch 90/1000\n",
      "9500/9500 [==============================] - 3s 264us/step - loss: 0.1266 - mse: 0.1266 - val_loss: 0.1267 - val_mse: 0.1267\n",
      "Epoch 91/1000\n",
      "9500/9500 [==============================] - 3s 264us/step - loss: 0.1266 - mse: 0.1266 - val_loss: 0.1267 - val_mse: 0.1267\n",
      "Epoch 92/1000\n",
      "9500/9500 [==============================] - 2s 262us/step - loss: 0.1266 - mse: 0.1266 - val_loss: 0.1268 - val_mse: 0.1268\n",
      "Epoch 93/1000\n",
      "9500/9500 [==============================] - 3s 263us/step - loss: 0.1268 - mse: 0.1268 - val_loss: 0.1267 - val_mse: 0.1267\n",
      "Epoch 94/1000\n",
      "9500/9500 [==============================] - 3s 263us/step - loss: 0.1266 - mse: 0.1266 - val_loss: 0.1267 - val_mse: 0.1267\n",
      "Epoch 95/1000\n",
      "9500/9500 [==============================] - 3s 264us/step - loss: 0.1266 - mse: 0.1266 - val_loss: 0.1267 - val_mse: 0.1267\n",
      "Epoch 96/1000\n",
      "9500/9500 [==============================] - 3s 264us/step - loss: 0.1266 - mse: 0.1266 - val_loss: 0.1267 - val_mse: 0.1267\n",
      "Epoch 97/1000\n",
      "9500/9500 [==============================] - 3s 265us/step - loss: 0.1266 - mse: 0.1266 - val_loss: 0.1267 - val_mse: 0.1267\n",
      "Epoch 98/1000\n",
      "9500/9500 [==============================] - 3s 268us/step - loss: 0.1271 - mse: 0.1271 - val_loss: 0.1269 - val_mse: 0.1269\n",
      "Epoch 99/1000\n",
      "9500/9500 [==============================] - 3s 268us/step - loss: 0.1266 - mse: 0.1266 - val_loss: 0.1267 - val_mse: 0.1267\n",
      "Epoch 100/1000\n",
      "9500/9500 [==============================] - 3s 264us/step - loss: 0.1266 - mse: 0.1266 - val_loss: 0.1267 - val_mse: 0.1267\n",
      "Epoch 101/1000\n",
      "9500/9500 [==============================] - 3s 267us/step - loss: 0.1266 - mse: 0.1266 - val_loss: 0.1267 - val_mse: 0.1267\n",
      "Epoch 102/1000\n",
      "9500/9500 [==============================] - 3s 271us/step - loss: 0.1266 - mse: 0.1266 - val_loss: 0.1267 - val_mse: 0.1267\n",
      "Epoch 103/1000\n",
      "9500/9500 [==============================] - 3s 267us/step - loss: 0.1266 - mse: 0.1266 - val_loss: 0.1267 - val_mse: 0.1267\n",
      "Epoch 104/1000\n",
      "9500/9500 [==============================] - 3s 264us/step - loss: 0.1266 - mse: 0.1266 - val_loss: 0.1267 - val_mse: 0.1267\n",
      "Epoch 105/1000\n",
      "9500/9500 [==============================] - 3s 265us/step - loss: 0.1266 - mse: 0.1266 - val_loss: 0.1267 - val_mse: 0.1267\n",
      "Epoch 106/1000\n",
      "9500/9500 [==============================] - 3s 264us/step - loss: 0.1266 - mse: 0.1266 - val_loss: 0.1267 - val_mse: 0.1267\n",
      "Epoch 107/1000\n",
      "9500/9500 [==============================] - 3s 264us/step - loss: 0.1266 - mse: 0.1266 - val_loss: 0.1267 - val_mse: 0.1267\n",
      "Epoch 108/1000\n",
      "9500/9500 [==============================] - 2s 263us/step - loss: 0.1267 - mse: 0.1267 - val_loss: 0.1270 - val_mse: 0.1270\n",
      "Epoch 109/1000\n",
      "9500/9500 [==============================] - 2s 263us/step - loss: 0.1266 - mse: 0.1266 - val_loss: 0.1267 - val_mse: 0.1267\n",
      "Epoch 110/1000\n",
      "9500/9500 [==============================] - 2s 263us/step - loss: 0.1266 - mse: 0.1266 - val_loss: 0.1267 - val_mse: 0.1267\n",
      "Epoch 111/1000\n",
      "9500/9500 [==============================] - 2s 263us/step - loss: 0.1266 - mse: 0.1266 - val_loss: 0.1267 - val_mse: 0.1267\n",
      "Epoch 112/1000\n",
      "9500/9500 [==============================] - 2s 263us/step - loss: 0.1266 - mse: 0.1266 - val_loss: 0.1269 - val_mse: 0.1269\n",
      "Epoch 113/1000\n",
      "9500/9500 [==============================] - 2s 263us/step - loss: 0.1268 - mse: 0.1268 - val_loss: 0.1267 - val_mse: 0.1267\n",
      "Epoch 114/1000\n",
      "9500/9500 [==============================] - 2s 263us/step - loss: 0.1266 - mse: 0.1266 - val_loss: 0.1267 - val_mse: 0.1267\n",
      "Epoch 115/1000\n",
      "9500/9500 [==============================] - 2s 263us/step - loss: 0.1266 - mse: 0.1266 - val_loss: 0.1267 - val_mse: 0.1267\n",
      "Epoch 116/1000\n",
      "9500/9500 [==============================] - 2s 263us/step - loss: 0.1266 - mse: 0.1266 - val_loss: 0.1267 - val_mse: 0.1267\n",
      "Epoch 117/1000\n",
      "9500/9500 [==============================] - 2s 263us/step - loss: 0.1266 - mse: 0.1266 - val_loss: 0.1267 - val_mse: 0.1267\n"
     ]
    },
    {
     "name": "stdout",
     "output_type": "stream",
     "text": [
      "Epoch 118/1000\n",
      "9500/9500 [==============================] - 3s 264us/step - loss: 0.1270 - mse: 0.1270 - val_loss: 0.1267 - val_mse: 0.1267\n",
      "Epoch 119/1000\n",
      "9500/9500 [==============================] - 3s 263us/step - loss: 0.1266 - mse: 0.1266 - val_loss: 0.1267 - val_mse: 0.1267\n",
      "Epoch 120/1000\n",
      "9500/9500 [==============================] - 3s 264us/step - loss: 0.1266 - mse: 0.1266 - val_loss: 0.1267 - val_mse: 0.1267\n",
      "Epoch 121/1000\n",
      "9500/9500 [==============================] - 3s 264us/step - loss: 0.1266 - mse: 0.1266 - val_loss: 0.1267 - val_mse: 0.1267\n",
      "Epoch 122/1000\n",
      "9500/9500 [==============================] - 3s 264us/step - loss: 0.1266 - mse: 0.1266 - val_loss: 0.1267 - val_mse: 0.1267\n",
      "Epoch 123/1000\n",
      "9500/9500 [==============================] - 3s 263us/step - loss: 0.1266 - mse: 0.1266 - val_loss: 0.1267 - val_mse: 0.1267\n",
      "Epoch 124/1000\n",
      "9500/9500 [==============================] - 3s 264us/step - loss: 0.1266 - mse: 0.1266 - val_loss: 0.1267 - val_mse: 0.1267\n",
      "Epoch 125/1000\n",
      "9500/9500 [==============================] - 3s 264us/step - loss: 0.1266 - mse: 0.1266 - val_loss: 0.1267 - val_mse: 0.1267\n",
      "Epoch 126/1000\n",
      "9500/9500 [==============================] - 3s 264us/step - loss: 0.1266 - mse: 0.1266 - val_loss: 0.1267 - val_mse: 0.1267\n",
      "Epoch 127/1000\n",
      "9500/9500 [==============================] - 3s 264us/step - loss: 0.1268 - mse: 0.1268 - val_loss: 0.1267 - val_mse: 0.1267\n",
      "Epoch 128/1000\n",
      "9500/9500 [==============================] - 3s 264us/step - loss: 0.1266 - mse: 0.1266 - val_loss: 0.1267 - val_mse: 0.1267\n",
      "Epoch 129/1000\n",
      "9500/9500 [==============================] - 3s 264us/step - loss: 0.1266 - mse: 0.1266 - val_loss: 0.1267 - val_mse: 0.1267\n",
      "Epoch 130/1000\n",
      "9500/9500 [==============================] - 2s 259us/step - loss: 0.1266 - mse: 0.1266 - val_loss: 0.1267 - val_mse: 0.1267\n",
      "Epoch 131/1000\n",
      "9500/9500 [==============================] - 3s 264us/step - loss: 0.1266 - mse: 0.1266 - val_loss: 0.1267 - val_mse: 0.1267\n",
      "Epoch 132/1000\n",
      "9500/9500 [==============================] - 2s 263us/step - loss: 0.1267 - mse: 0.1267 - val_loss: 0.1267 - val_mse: 0.1267\n",
      "Epoch 133/1000\n",
      "9500/9500 [==============================] - 3s 263us/step - loss: 0.1266 - mse: 0.1266 - val_loss: 0.1267 - val_mse: 0.1267\n",
      "Epoch 134/1000\n",
      "9500/9500 [==============================] - 3s 263us/step - loss: 0.1266 - mse: 0.1266 - val_loss: 0.1267 - val_mse: 0.1267\n",
      "Epoch 135/1000\n",
      "9500/9500 [==============================] - 3s 264us/step - loss: 0.1266 - mse: 0.1266 - val_loss: 0.1269 - val_mse: 0.1269\n",
      "Epoch 136/1000\n",
      "9500/9500 [==============================] - 3s 263us/step - loss: 0.1269 - mse: 0.1269 - val_loss: 0.1267 - val_mse: 0.1267\n",
      "Epoch 137/1000\n",
      "9500/9500 [==============================] - 3s 264us/step - loss: 0.1266 - mse: 0.1266 - val_loss: 0.1267 - val_mse: 0.1267\n",
      "Epoch 138/1000\n",
      "9500/9500 [==============================] - 3s 264us/step - loss: 0.1266 - mse: 0.1266 - val_loss: 0.1267 - val_mse: 0.1267\n",
      "Epoch 139/1000\n",
      "9500/9500 [==============================] - 3s 263us/step - loss: 0.1266 - mse: 0.1266 - val_loss: 0.1267 - val_mse: 0.1267\n",
      "Epoch 140/1000\n",
      "9500/9500 [==============================] - 3s 265us/step - loss: 0.1266 - mse: 0.1266 - val_loss: 0.1267 - val_mse: 0.1267\n",
      "Epoch 141/1000\n",
      "9500/9500 [==============================] - 3s 264us/step - loss: 0.1266 - mse: 0.1266 - val_loss: 0.1267 - val_mse: 0.1267\n",
      "Epoch 142/1000\n",
      "9500/9500 [==============================] - 3s 264us/step - loss: 0.1267 - mse: 0.1267 - val_loss: 0.1267 - val_mse: 0.1267\n",
      "Epoch 143/1000\n",
      "9500/9500 [==============================] - 2s 257us/step - loss: 0.1266 - mse: 0.1266 - val_loss: 0.1267 - val_mse: 0.1267\n",
      "Epoch 144/1000\n",
      "9500/9500 [==============================] - 2s 261us/step - loss: 0.1266 - mse: 0.1266 - val_loss: 0.1267 - val_mse: 0.1267\n",
      "Epoch 145/1000\n",
      "9500/9500 [==============================] - 2s 261us/step - loss: 0.1267 - mse: 0.1267 - val_loss: 0.1267 - val_mse: 0.1267\n",
      "Epoch 146/1000\n",
      "9500/9500 [==============================] - 2s 261us/step - loss: 0.1266 - mse: 0.1266 - val_loss: 0.1267 - val_mse: 0.1267\n",
      "Epoch 147/1000\n",
      "9500/9500 [==============================] - 2s 261us/step - loss: 0.1266 - mse: 0.1266 - val_loss: 0.1267 - val_mse: 0.1267\n",
      "Epoch 148/1000\n",
      "9500/9500 [==============================] - 2s 261us/step - loss: 0.1267 - mse: 0.1267 - val_loss: 0.1267 - val_mse: 0.1267\n",
      "Epoch 149/1000\n",
      "9500/9500 [==============================] - 2s 261us/step - loss: 0.1266 - mse: 0.1266 - val_loss: 0.1267 - val_mse: 0.1267\n",
      "Epoch 150/1000\n",
      "9500/9500 [==============================] - 2s 261us/step - loss: 0.1266 - mse: 0.1266 - val_loss: 0.1267 - val_mse: 0.1267\n",
      "Epoch 151/1000\n",
      "9500/9500 [==============================] - 2s 261us/step - loss: 0.1266 - mse: 0.1266 - val_loss: 0.1267 - val_mse: 0.1267\n",
      "Epoch 152/1000\n",
      "9500/9500 [==============================] - 2s 260us/step - loss: 0.1268 - mse: 0.1268 - val_loss: 0.1271 - val_mse: 0.1271\n",
      "Epoch 153/1000\n",
      "9500/9500 [==============================] - 2s 261us/step - loss: 0.1266 - mse: 0.1266 - val_loss: 0.1267 - val_mse: 0.1267\n",
      "Epoch 154/1000\n",
      "9500/9500 [==============================] - 3s 265us/step - loss: 0.1266 - mse: 0.1266 - val_loss: 0.1267 - val_mse: 0.1267\n",
      "Epoch 155/1000\n",
      "9500/9500 [==============================] - 2s 260us/step - loss: 0.1266 - mse: 0.1266 - val_loss: 0.1267 - val_mse: 0.1267\n",
      "Epoch 156/1000\n",
      "9500/9500 [==============================] - 2s 261us/step - loss: 0.1266 - mse: 0.1266 - val_loss: 0.1267 - val_mse: 0.1267\n",
      "Epoch 157/1000\n",
      "9500/9500 [==============================] - 2s 259us/step - loss: 0.1266 - mse: 0.1266 - val_loss: 0.1270 - val_mse: 0.1270\n",
      "Epoch 158/1000\n",
      "9500/9500 [==============================] - 2s 260us/step - loss: 0.1266 - mse: 0.1266 - val_loss: 0.1267 - val_mse: 0.1267\n",
      "Epoch 159/1000\n",
      "9500/9500 [==============================] - 2s 260us/step - loss: 0.1266 - mse: 0.1266 - val_loss: 0.1267 - val_mse: 0.1267\n",
      "Epoch 160/1000\n",
      "9500/9500 [==============================] - 4s 376us/step - loss: 0.1266 - mse: 0.1266 - val_loss: 0.1267 - val_mse: 0.1267\n",
      "Epoch 161/1000\n",
      "9500/9500 [==============================] - 2s 253us/step - loss: 0.1266 - mse: 0.1266 - val_loss: 0.1267 - val_mse: 0.1267\n",
      "Epoch 162/1000\n",
      "9500/9500 [==============================] - 2s 253us/step - loss: 0.1266 - mse: 0.1266 - val_loss: 0.1267 - val_mse: 0.1267\n",
      "Epoch 163/1000\n",
      "9500/9500 [==============================] - 2s 254us/step - loss: 0.1267 - mse: 0.1267 - val_loss: 0.1267 - val_mse: 0.1267\n",
      "Epoch 164/1000\n",
      "9500/9500 [==============================] - 2s 253us/step - loss: 0.1266 - mse: 0.1266 - val_loss: 0.1267 - val_mse: 0.1267\n",
      "Epoch 165/1000\n",
      "9500/9500 [==============================] - 2s 253us/step - loss: 0.1266 - mse: 0.1266 - val_loss: 0.1267 - val_mse: 0.1267\n",
      "Epoch 166/1000\n",
      "9500/9500 [==============================] - 2s 257us/step - loss: 0.1266 - mse: 0.1266 - val_loss: 0.1267 - val_mse: 0.1267\n",
      "Epoch 167/1000\n",
      "9500/9500 [==============================] - 2s 255us/step - loss: 0.1266 - mse: 0.1266 - val_loss: 0.1267 - val_mse: 0.1267\n",
      "Epoch 168/1000\n",
      "9500/9500 [==============================] - 2s 257us/step - loss: 0.1267 - mse: 0.1267 - val_loss: 0.1267 - val_mse: 0.1267\n",
      "Epoch 169/1000\n",
      "9500/9500 [==============================] - 2s 260us/step - loss: 0.1268 - mse: 0.1268 - val_loss: 0.1267 - val_mse: 0.1267\n",
      "Epoch 170/1000\n",
      "9500/9500 [==============================] - 2s 257us/step - loss: 0.1266 - mse: 0.1266 - val_loss: 0.1267 - val_mse: 0.1267\n",
      "Epoch 171/1000\n",
      "9500/9500 [==============================] - 2s 256us/step - loss: 0.1266 - mse: 0.1266 - val_loss: 0.1267 - val_mse: 0.1267\n",
      "Epoch 172/1000\n",
      "9500/9500 [==============================] - 2s 258us/step - loss: 0.1266 - mse: 0.1266 - val_loss: 0.1267 - val_mse: 0.1267\n",
      "Epoch 173/1000\n",
      "9500/9500 [==============================] - 3s 285us/step - loss: 0.1266 - mse: 0.1266 - val_loss: 0.1267 - val_mse: 0.1267\n",
      "Epoch 174/1000\n",
      "9500/9500 [==============================] - 3s 275us/step - loss: 0.1266 - mse: 0.1266 - val_loss: 0.1267 - val_mse: 0.1267\n",
      "Epoch 175/1000\n",
      "9500/9500 [==============================] - 3s 289us/step - loss: 0.1266 - mse: 0.1266 - val_loss: 0.1271 - val_mse: 0.1271\n",
      "Epoch 176/1000\n"
     ]
    },
    {
     "name": "stdout",
     "output_type": "stream",
     "text": [
      "9500/9500 [==============================] - 3s 272us/step - loss: 0.1267 - mse: 0.1267 - val_loss: 0.1267 - val_mse: 0.1267\n",
      "Epoch 177/1000\n",
      "9500/9500 [==============================] - 3s 271us/step - loss: 0.1266 - mse: 0.1266 - val_loss: 0.1267 - val_mse: 0.1267\n",
      "Epoch 178/1000\n",
      "9500/9500 [==============================] - 3s 270us/step - loss: 0.1266 - mse: 0.1266 - val_loss: 0.1267 - val_mse: 0.1267\n",
      "Epoch 179/1000\n",
      "9500/9500 [==============================] - 2s 261us/step - loss: 0.1266 - mse: 0.1266 - val_loss: 0.1267 - val_mse: 0.1267\n",
      "Epoch 180/1000\n",
      "9500/9500 [==============================] - 2s 262us/step - loss: 0.1266 - mse: 0.1266 - val_loss: 0.1267 - val_mse: 0.1267\n",
      "Epoch 181/1000\n",
      "9500/9500 [==============================] - 2s 259us/step - loss: 0.1269 - mse: 0.1269 - val_loss: 0.1268 - val_mse: 0.1268\n",
      "Epoch 182/1000\n",
      "9500/9500 [==============================] - 2s 255us/step - loss: 0.1267 - mse: 0.1267 - val_loss: 0.1267 - val_mse: 0.1267\n",
      "Epoch 183/1000\n",
      "9500/9500 [==============================] - 2s 261us/step - loss: 0.1266 - mse: 0.1266 - val_loss: 0.1267 - val_mse: 0.1267\n",
      "Epoch 184/1000\n",
      "9500/9500 [==============================] - 2s 256us/step - loss: 0.1266 - mse: 0.1266 - val_loss: 0.1267 - val_mse: 0.1267\n",
      "Epoch 185/1000\n",
      "9500/9500 [==============================] - 2s 257us/step - loss: 0.1266 - mse: 0.1266 - val_loss: 0.1267 - val_mse: 0.1267\n",
      "Epoch 186/1000\n",
      "9500/9500 [==============================] - 2s 255us/step - loss: 0.1266 - mse: 0.1266 - val_loss: 0.1267 - val_mse: 0.1267\n"
     ]
    }
   ],
   "source": [
    "history_eit = model_eit.fit(x = xTrain, y = yTrain,\n",
    "                            validation_data = (xTest, yTest),\n",
    "                            epochs = epochs,\n",
    "                            batch_size = batchSize,\n",
    "                            verbose = 1,\n",
    "                            callbacks = [earlyStop])"
   ]
  },
  {
   "cell_type": "code",
   "execution_count": 13,
   "metadata": {},
   "outputs": [
    {
     "name": "stdout",
     "output_type": "stream",
     "text": [
      "Importing validation data...\n",
      "input Validation Data:  (5, 32, 32, 1)\n",
      "output Validation Data: (5, 1366)\n"
     ]
    }
   ],
   "source": [
    "print(\"Importing validation data...\")\n",
    "xValidation = np.load(\"data/1366_seed_99_input.npy\")\n",
    "xValidation = np.reshape(xValidation, (len(xValidation), 32, 32, 1))\n",
    "yValidation = np.load(\"data/1366_seed_99_output.npy\")\n",
    "print(f\"input Validation Data:  {xValidation.shape}\")\n",
    "print(f\"output Validation Data: {yValidation.shape}\")"
   ]
  },
  {
   "cell_type": "code",
   "execution_count": 15,
   "metadata": {},
   "outputs": [
    {
     "name": "stdout",
     "output_type": "stream",
     "text": [
      "['loss', 'mse']\n"
     ]
    }
   ],
   "source": [
    "print(model_eit.metrics_names)"
   ]
  },
  {
   "cell_type": "code",
   "execution_count": 18,
   "metadata": {},
   "outputs": [
    {
     "name": "stdout",
     "output_type": "stream",
     "text": [
      "5/5 [==============================] - 0s 798us/step\n",
      "mse: 0.18456019461154938\n"
     ]
    }
   ],
   "source": [
    "score = model_eit.evaluate(x = xValidation, y = yValidation)\n",
    "print(f\"{model_eit.metrics_names[1]}: {score[1]}\")"
   ]
  },
  {
   "cell_type": "code",
   "execution_count": 20,
   "metadata": {},
   "outputs": [
    {
     "name": "stdout",
     "output_type": "stream",
     "text": [
      "dict_keys(['val_loss', 'val_mse', 'loss', 'mse'])\n"
     ]
    }
   ],
   "source": [
    "print(history_eit.history.keys())"
   ]
  },
  {
   "cell_type": "code",
   "execution_count": 34,
   "metadata": {},
   "outputs": [
    {
     "data": {
      "image/png": "[encoded data removed]",
      "text/plain": [
       "<Figure size 1080x720 with 1 Axes>"
      ]
     },
     "metadata": {
      "needs_background": "light"
     },
     "output_type": "display_data"
    }
   ],
   "source": [
    "%matplotlib inline\n",
    "plt.figure(figsize = (15,10))\n",
    "plt.plot(history_eit.history['mse'][:],label = \"Mean Squared Error\")\n",
    "plt.plot(history_eit.history['val_mse'][:], label = \"Validation Mean Squared Error\")\n",
    "plt.ylabel(\"Training Loss\")\n",
    "plt.xlabel(\"No. epoch\")\n",
    "plt.grid()\n",
    "plt.legend(loc=\"upper right\")\n",
    "plt.show()"
   ]
  },
  {
   "cell_type": "code",
   "execution_count": 32,
   "metadata": {},
   "outputs": [
    {
     "name": "stdout",
     "output_type": "stream",
     "text": [
      "Saving model... Done\n"
     ]
    }
   ],
   "source": [
    "print(\"Saving model...\", end = \" \")\n",
    "model_eit.save(\"eit_1366.h5\")\n",
    "print(\"Done\")\n",
    "\n",
    "del model_eit"
   ]
  }
 ],
 "metadata": {
  "kernelspec": {
   "display_name": "Python 3",
   "language": "python",
   "name": "python3"
  },
  "language_info": {
   "codemirror_mode": {
    "name": "ipython",
    "version": 3
   },
   "file_extension": ".py",
   "mimetype": "text/x-python",
   "name": "python",
   "nbconvert_exporter": "python",
   "pygments_lexer": "ipython3",
   "version": "3.7.4"
  }
 },
 "nbformat": 4,
 "nbformat_minor": 2
}
