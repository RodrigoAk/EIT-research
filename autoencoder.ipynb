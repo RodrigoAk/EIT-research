{
 "cells": [
  {
   "cell_type": "code",
   "execution_count": 1,
   "metadata": {},
   "outputs": [
    {
     "name": "stderr",
     "output_type": "stream",
     "text": [
      "Using TensorFlow backend.\n"
     ]
    }
   ],
   "source": [
    "import numpy as np\n",
    "from keras.models import Sequential\n",
    "from keras.layers import Dense\n",
    "from keras.callbacks import EarlyStopping"
   ]
  },
  {
   "cell_type": "code",
   "execution_count": 2,
   "metadata": {},
   "outputs": [],
   "source": [
    "def build_base(inputSize, loss_function = \"mse\", optimizer = \"adam\"):\n",
    "    model = Sequential()\n",
    "    model.add(Dense(inputSize[0]//2, input_shape = inputSize, activation = \"relu\"))\n",
    "    model.add(Dense(inputSize[0], activation = \"relu\"))\n",
    "    model.compile(loss = loss_function, optimizer = optimizer, metrics = [\"mse\"])\n",
    "\n",
    "    return model\n",
    "\n",
    "def get_encoded_data(model, decoder_layers, xTrain, loss_function = \"mse\", optimizer = \"adam\"):\n",
    "    decoder_layers.append(model.layers[-1])\n",
    "    model.pop()\n",
    "    model.compile(loss = loss_function, optimizer = optimizer, metrics = [loss_function])\n",
    "    model.summary()\n",
    "    print()\n",
    "    xTrainEncoded = model.predict(xTrain)\n",
    "    print(xTrainEncoded.shape)\n",
    "    \n",
    "    return xTrainEncoded, decoder_layers\n",
    "\n",
    "def add_layer(model, layer_dimension):\n",
    "    for layer in model.layers:\n",
    "        layer.trainable = False\n",
    "    model.add(Dense(layer_dimension, activation = \"relu\"))\n",
    "    model.add(Dense(layer_dimension*2, activation = \"relu\"))\n",
    "    model.compile(loss = \"mse\", optimizer = \"adam\", metrics = [\"mse\"])\n",
    "    model.summary()\n",
    "    \n",
    "    return model"
   ]
  },
  {
   "cell_type": "code",
   "execution_count": 3,
   "metadata": {},
   "outputs": [],
   "source": [
    "batchSize = 250\n",
    "verbose = 1\n",
    "epochs = 1000\n",
    "ES = EarlyStopping(monitor = \"mse\", patience = 20)"
   ]
  },
  {
   "cell_type": "markdown",
   "metadata": {},
   "source": [
    "# 1st Autoencoder"
   ]
  },
  {
   "cell_type": "code",
   "execution_count": 4,
   "metadata": {},
   "outputs": [
    {
     "name": "stdout",
     "output_type": "stream",
     "text": [
      "Model: \"sequential_1\"\n",
      "_________________________________________________________________\n",
      "Layer (type)                 Output Shape              Param #   \n",
      "=================================================================\n",
      "dense_1 (Dense)              (None, 512)               524800    \n",
      "_________________________________________________________________\n",
      "dense_2 (Dense)              (None, 1024)              525312    \n",
      "=================================================================\n",
      "Total params: 1,050,112\n",
      "Trainable params: 1,050,112\n",
      "Non-trainable params: 0\n",
      "_________________________________________________________________\n"
     ]
    }
   ],
   "source": [
    "model = build_base((32*32,), \"mse\", \"adam\")\n",
    "model.summary()"
   ]
  },
  {
   "cell_type": "code",
   "execution_count": 5,
   "metadata": {
    "scrolled": true
   },
   "outputs": [
    {
     "name": "stdout",
     "output_type": "stream",
     "text": [
      "Epoch 1/1000\n",
      "10499/10499 [==============================] - 3s 285us/step - loss: 0.0359 - mse: 0.0359\n",
      "Epoch 2/1000\n",
      " 4000/10499 [==========>...................] - ETA: 0s - loss: 0.0320 - mse: 0.032 - ETA: 0s - loss: 0.0319 - mse: 0.0319"
     ]
    },
    {
     "name": "stderr",
     "output_type": "stream",
     "text": [
      "D:\\Programs\\Anaconda3\\lib\\site-packages\\keras\\callbacks\\callbacks.py:846: RuntimeWarning: Early stopping conditioned on metric `val_loss` which is not available. Available metrics are: loss,mse\n",
      "  (self.monitor, ','.join(list(logs.keys()))), RuntimeWarning\n"
     ]
    },
    {
     "name": "stdout",
     "output_type": "stream",
     "text": [
      "10499/10499 [==============================] - 0s 42us/step - loss: 0.0317 - mse: 0.0317\n",
      "Epoch 3/1000\n",
      "10499/10499 [==============================] - 0s 41us/step - loss: 0.0313 - mse: 0.0313\n",
      "Epoch 4/1000\n",
      "10499/10499 [==============================] - 0s 41us/step - loss: 0.0311 - mse: 0.0311\n",
      "Epoch 5/1000\n",
      "10499/10499 [==============================] - 0s 43us/step - loss: 0.0311 - mse: 0.0311\n",
      "Epoch 6/1000\n",
      "10499/10499 [==============================] - 0s 43us/step - loss: 0.0307 - mse: 0.0307\n",
      "Epoch 7/1000\n",
      "10499/10499 [==============================] - 0s 44us/step - loss: 0.0306 - mse: 0.0306\n",
      "Epoch 8/1000\n",
      "10499/10499 [==============================] - 0s 42us/step - loss: 0.0306 - mse: 0.0306\n",
      "Epoch 9/1000\n",
      "10499/10499 [==============================] - 0s 41us/step - loss: 0.0306 - mse: 0.0306\n",
      "Epoch 10/1000\n",
      "10499/10499 [==============================] - 0s 42us/step - loss: 0.0305 - mse: 0.0305: 0s - loss: 0.0306 - mse: 0.\n",
      "Epoch 11/1000\n",
      "10499/10499 [==============================] - 0s 42us/step - loss: 0.0305 - mse: 0.0305\n",
      "Epoch 12/1000\n",
      "10499/10499 [==============================] - 0s 41us/step - loss: 0.0305 - mse: 0.0305\n",
      "Epoch 13/1000\n",
      "10499/10499 [==============================] - 0s 41us/step - loss: 0.0305 - mse: 0.0305: 0s - loss: 0.0308 - mse\n",
      "Epoch 14/1000\n",
      "10499/10499 [==============================] - 0s 41us/step - loss: 0.0305 - mse: 0.0305\n",
      "Epoch 15/1000\n",
      "10499/10499 [==============================] - 0s 41us/step - loss: 0.0305 - mse: 0.0305\n",
      "Epoch 16/1000\n",
      "10499/10499 [==============================] - 0s 41us/step - loss: 0.0305 - mse: 0.0305\n",
      "Epoch 17/1000\n",
      "10499/10499 [==============================] - 0s 41us/step - loss: 0.0305 - mse: 0.0305\n",
      "Epoch 18/1000\n",
      "10499/10499 [==============================] - 0s 41us/step - loss: 0.0305 - mse: 0.0305\n",
      "Epoch 19/1000\n",
      "10499/10499 [==============================] - 0s 41us/step - loss: 0.0305 - mse: 0.0305\n",
      "Epoch 20/1000\n",
      "10499/10499 [==============================] - 0s 41us/step - loss: 0.0305 - mse: 0.0305\n",
      "Epoch 21/1000\n",
      "10499/10499 [==============================] - 0s 41us/step - loss: 0.0305 - mse: 0.0305\n",
      "Epoch 22/1000\n",
      "10499/10499 [==============================] - 0s 41us/step - loss: 0.0305 - mse: 0.0305\n",
      "Epoch 23/1000\n",
      "10499/10499 [==============================] - 0s 41us/step - loss: 0.0305 - mse: 0.0305\n",
      "Epoch 24/1000\n",
      "10499/10499 [==============================] - 0s 42us/step - loss: 0.0305 - mse: 0.0305: 0s - loss: 0.0304 - mse:\n",
      "Epoch 25/1000\n",
      "10499/10499 [==============================] - 0s 42us/step - loss: 0.0305 - mse: 0.0305\n",
      "Epoch 26/1000\n",
      "10499/10499 [==============================] - 0s 42us/step - loss: 0.0305 - mse: 0.0305: 0s - loss: 0.0304 - mse: \n",
      "Epoch 27/1000\n",
      "10499/10499 [==============================] - 0s 42us/step - loss: 0.0305 - mse: 0.0305: 0s - loss: 0.0305 - mse:\n",
      "Epoch 28/1000\n",
      "10499/10499 [==============================] - 0s 41us/step - loss: 0.0305 - mse: 0.0305\n",
      "Epoch 29/1000\n",
      "10499/10499 [==============================] - 0s 41us/step - loss: 0.0305 - mse: 0.0305: 0s - loss: 0.0304 - mse: 0\n",
      "Epoch 30/1000\n",
      "10499/10499 [==============================] - 0s 41us/step - loss: 0.0305 - mse: 0.0305\n",
      "Epoch 31/1000\n",
      "10499/10499 [==============================] - 0s 42us/step - loss: 0.0305 - mse: 0.0305\n",
      "Epoch 32/1000\n",
      "10499/10499 [==============================] - 0s 42us/step - loss: 0.0305 - mse: 0.0305: 0s - loss: 0.0306 - mse: \n",
      "Epoch 33/1000\n",
      "10499/10499 [==============================] - 0s 42us/step - loss: 0.0305 - mse: 0.0305: 0s - loss: 0.0305 - mse: \n",
      "Epoch 34/1000\n",
      "  250/10499 [..............................] - ETA: 0s - loss: 0.0302 - mse: 0.0302"
     ]
    },
    {
     "ename": "KeyboardInterrupt",
     "evalue": "",
     "output_type": "error",
     "traceback": [
      "\u001b[1;31m---------------------------------------------------------------------------\u001b[0m",
      "\u001b[1;31mKeyboardInterrupt\u001b[0m                         Traceback (most recent call last)",
      "\u001b[1;32m<ipython-input-5-915f5fbd4ace>\u001b[0m in \u001b[0;36m<module>\u001b[1;34m\u001b[0m\n\u001b[0;32m      3\u001b[0m \u001b[0mxTrain\u001b[0m \u001b[1;33m=\u001b[0m \u001b[0mnp\u001b[0m\u001b[1;33m.\u001b[0m\u001b[0mload\u001b[0m\u001b[1;33m(\u001b[0m\u001b[1;34m\"../data/711_input.npy\"\u001b[0m\u001b[1;33m)\u001b[0m\u001b[1;33m.\u001b[0m\u001b[0mastype\u001b[0m\u001b[1;33m(\u001b[0m\u001b[1;34m\"float32\"\u001b[0m\u001b[1;33m)\u001b[0m\u001b[1;33m\u001b[0m\u001b[1;33m\u001b[0m\u001b[0m\n\u001b[0;32m      4\u001b[0m \u001b[1;33m\u001b[0m\u001b[0m\n\u001b[1;32m----> 5\u001b[1;33m \u001b[0mmodel\u001b[0m\u001b[1;33m.\u001b[0m\u001b[0mfit\u001b[0m\u001b[1;33m(\u001b[0m\u001b[0mxTrain\u001b[0m\u001b[1;33m,\u001b[0m \u001b[0mxTrain\u001b[0m\u001b[1;33m,\u001b[0m \u001b[0mbatch_size\u001b[0m \u001b[1;33m=\u001b[0m \u001b[0mbatchSize\u001b[0m\u001b[1;33m,\u001b[0m \u001b[0mepochs\u001b[0m \u001b[1;33m=\u001b[0m \u001b[0mepochs\u001b[0m\u001b[1;33m,\u001b[0m \u001b[0mverbose\u001b[0m \u001b[1;33m=\u001b[0m \u001b[0mverbose\u001b[0m\u001b[1;33m,\u001b[0m \u001b[0mcallbacks\u001b[0m \u001b[1;33m=\u001b[0m \u001b[1;33m[\u001b[0m\u001b[0mES\u001b[0m\u001b[1;33m]\u001b[0m\u001b[1;33m)\u001b[0m\u001b[1;33m\u001b[0m\u001b[1;33m\u001b[0m\u001b[0m\n\u001b[0m",
      "\u001b[1;32mD:\\Programs\\Anaconda3\\lib\\site-packages\\keras\\engine\\training.py\u001b[0m in \u001b[0;36mfit\u001b[1;34m(self, x, y, batch_size, epochs, verbose, callbacks, validation_split, validation_data, shuffle, class_weight, sample_weight, initial_epoch, steps_per_epoch, validation_steps, validation_freq, max_queue_size, workers, use_multiprocessing, **kwargs)\u001b[0m\n\u001b[0;32m   1237\u001b[0m                                         \u001b[0msteps_per_epoch\u001b[0m\u001b[1;33m=\u001b[0m\u001b[0msteps_per_epoch\u001b[0m\u001b[1;33m,\u001b[0m\u001b[1;33m\u001b[0m\u001b[1;33m\u001b[0m\u001b[0m\n\u001b[0;32m   1238\u001b[0m                                         \u001b[0mvalidation_steps\u001b[0m\u001b[1;33m=\u001b[0m\u001b[0mvalidation_steps\u001b[0m\u001b[1;33m,\u001b[0m\u001b[1;33m\u001b[0m\u001b[1;33m\u001b[0m\u001b[0m\n\u001b[1;32m-> 1239\u001b[1;33m                                         validation_freq=validation_freq)\n\u001b[0m\u001b[0;32m   1240\u001b[0m \u001b[1;33m\u001b[0m\u001b[0m\n\u001b[0;32m   1241\u001b[0m     def evaluate(self,\n",
      "\u001b[1;32mD:\\Programs\\Anaconda3\\lib\\site-packages\\keras\\engine\\training_arrays.py\u001b[0m in \u001b[0;36mfit_loop\u001b[1;34m(model, fit_function, fit_inputs, out_labels, batch_size, epochs, verbose, callbacks, val_function, val_inputs, shuffle, initial_epoch, steps_per_epoch, validation_steps, validation_freq)\u001b[0m\n\u001b[0;32m    194\u001b[0m                     \u001b[0mins_batch\u001b[0m\u001b[1;33m[\u001b[0m\u001b[0mi\u001b[0m\u001b[1;33m]\u001b[0m \u001b[1;33m=\u001b[0m \u001b[0mins_batch\u001b[0m\u001b[1;33m[\u001b[0m\u001b[0mi\u001b[0m\u001b[1;33m]\u001b[0m\u001b[1;33m.\u001b[0m\u001b[0mtoarray\u001b[0m\u001b[1;33m(\u001b[0m\u001b[1;33m)\u001b[0m\u001b[1;33m\u001b[0m\u001b[1;33m\u001b[0m\u001b[0m\n\u001b[0;32m    195\u001b[0m \u001b[1;33m\u001b[0m\u001b[0m\n\u001b[1;32m--> 196\u001b[1;33m                 \u001b[0mouts\u001b[0m \u001b[1;33m=\u001b[0m \u001b[0mfit_function\u001b[0m\u001b[1;33m(\u001b[0m\u001b[0mins_batch\u001b[0m\u001b[1;33m)\u001b[0m\u001b[1;33m\u001b[0m\u001b[1;33m\u001b[0m\u001b[0m\n\u001b[0m\u001b[0;32m    197\u001b[0m                 \u001b[0mouts\u001b[0m \u001b[1;33m=\u001b[0m \u001b[0mto_list\u001b[0m\u001b[1;33m(\u001b[0m\u001b[0mouts\u001b[0m\u001b[1;33m)\u001b[0m\u001b[1;33m\u001b[0m\u001b[1;33m\u001b[0m\u001b[0m\n\u001b[0;32m    198\u001b[0m                 \u001b[1;32mfor\u001b[0m \u001b[0ml\u001b[0m\u001b[1;33m,\u001b[0m \u001b[0mo\u001b[0m \u001b[1;32min\u001b[0m \u001b[0mzip\u001b[0m\u001b[1;33m(\u001b[0m\u001b[0mout_labels\u001b[0m\u001b[1;33m,\u001b[0m \u001b[0mouts\u001b[0m\u001b[1;33m)\u001b[0m\u001b[1;33m:\u001b[0m\u001b[1;33m\u001b[0m\u001b[1;33m\u001b[0m\u001b[0m\n",
      "\u001b[1;32mD:\\Programs\\Anaconda3\\lib\\site-packages\\tensorflow_core\\python\\keras\\backend.py\u001b[0m in \u001b[0;36m__call__\u001b[1;34m(self, inputs)\u001b[0m\n\u001b[0;32m   3733\u001b[0m     return nest.pack_sequence_as(\n\u001b[0;32m   3734\u001b[0m         \u001b[0mself\u001b[0m\u001b[1;33m.\u001b[0m\u001b[0m_outputs_structure\u001b[0m\u001b[1;33m,\u001b[0m\u001b[1;33m\u001b[0m\u001b[1;33m\u001b[0m\u001b[0m\n\u001b[1;32m-> 3735\u001b[1;33m         \u001b[1;33m[\u001b[0m\u001b[0mx\u001b[0m\u001b[1;33m.\u001b[0m\u001b[0m_numpy\u001b[0m\u001b[1;33m(\u001b[0m\u001b[1;33m)\u001b[0m \u001b[1;32mfor\u001b[0m \u001b[0mx\u001b[0m \u001b[1;32min\u001b[0m \u001b[0moutputs\u001b[0m\u001b[1;33m]\u001b[0m\u001b[1;33m,\u001b[0m  \u001b[1;31m# pylint: disable=protected-access\u001b[0m\u001b[1;33m\u001b[0m\u001b[1;33m\u001b[0m\u001b[0m\n\u001b[0m\u001b[0;32m   3736\u001b[0m         expand_composites=True)\n\u001b[0;32m   3737\u001b[0m \u001b[1;33m\u001b[0m\u001b[0m\n",
      "\u001b[1;32mD:\\Programs\\Anaconda3\\lib\\site-packages\\tensorflow_core\\python\\keras\\backend.py\u001b[0m in \u001b[0;36m<listcomp>\u001b[1;34m(.0)\u001b[0m\n\u001b[0;32m   3733\u001b[0m     return nest.pack_sequence_as(\n\u001b[0;32m   3734\u001b[0m         \u001b[0mself\u001b[0m\u001b[1;33m.\u001b[0m\u001b[0m_outputs_structure\u001b[0m\u001b[1;33m,\u001b[0m\u001b[1;33m\u001b[0m\u001b[1;33m\u001b[0m\u001b[0m\n\u001b[1;32m-> 3735\u001b[1;33m         \u001b[1;33m[\u001b[0m\u001b[0mx\u001b[0m\u001b[1;33m.\u001b[0m\u001b[0m_numpy\u001b[0m\u001b[1;33m(\u001b[0m\u001b[1;33m)\u001b[0m \u001b[1;32mfor\u001b[0m \u001b[0mx\u001b[0m \u001b[1;32min\u001b[0m \u001b[0moutputs\u001b[0m\u001b[1;33m]\u001b[0m\u001b[1;33m,\u001b[0m  \u001b[1;31m# pylint: disable=protected-access\u001b[0m\u001b[1;33m\u001b[0m\u001b[1;33m\u001b[0m\u001b[0m\n\u001b[0m\u001b[0;32m   3736\u001b[0m         expand_composites=True)\n\u001b[0;32m   3737\u001b[0m \u001b[1;33m\u001b[0m\u001b[0m\n",
      "\u001b[1;32mD:\\Programs\\Anaconda3\\lib\\site-packages\\tensorflow_core\\python\\framework\\ops.py\u001b[0m in \u001b[0;36m_numpy\u001b[1;34m(self)\u001b[0m\n\u001b[0;32m    906\u001b[0m     \u001b[1;31m# pylint: disable=protected-access\u001b[0m\u001b[1;33m\u001b[0m\u001b[1;33m\u001b[0m\u001b[1;33m\u001b[0m\u001b[0m\n\u001b[0;32m    907\u001b[0m     \u001b[1;32mtry\u001b[0m\u001b[1;33m:\u001b[0m\u001b[1;33m\u001b[0m\u001b[1;33m\u001b[0m\u001b[0m\n\u001b[1;32m--> 908\u001b[1;33m       \u001b[1;32mreturn\u001b[0m \u001b[0mself\u001b[0m\u001b[1;33m.\u001b[0m\u001b[0m_numpy_internal\u001b[0m\u001b[1;33m(\u001b[0m\u001b[1;33m)\u001b[0m\u001b[1;33m\u001b[0m\u001b[1;33m\u001b[0m\u001b[0m\n\u001b[0m\u001b[0;32m    909\u001b[0m     \u001b[1;32mexcept\u001b[0m \u001b[0mcore\u001b[0m\u001b[1;33m.\u001b[0m\u001b[0m_NotOkStatusException\u001b[0m \u001b[1;32mas\u001b[0m \u001b[0me\u001b[0m\u001b[1;33m:\u001b[0m\u001b[1;33m\u001b[0m\u001b[1;33m\u001b[0m\u001b[0m\n\u001b[0;32m    910\u001b[0m       \u001b[0msix\u001b[0m\u001b[1;33m.\u001b[0m\u001b[0mraise_from\u001b[0m\u001b[1;33m(\u001b[0m\u001b[0mcore\u001b[0m\u001b[1;33m.\u001b[0m\u001b[0m_status_to_exception\u001b[0m\u001b[1;33m(\u001b[0m\u001b[0me\u001b[0m\u001b[1;33m.\u001b[0m\u001b[0mcode\u001b[0m\u001b[1;33m,\u001b[0m \u001b[0me\u001b[0m\u001b[1;33m.\u001b[0m\u001b[0mmessage\u001b[0m\u001b[1;33m)\u001b[0m\u001b[1;33m,\u001b[0m \u001b[1;32mNone\u001b[0m\u001b[1;33m)\u001b[0m\u001b[1;33m\u001b[0m\u001b[1;33m\u001b[0m\u001b[0m\n",
      "\u001b[1;31mKeyboardInterrupt\u001b[0m: "
     ]
    }
   ],
   "source": [
    "# Treinamos a primeiro autoencoder\n",
    "\n",
    "xTrain = np.load(\"../data/711_input.npy\").astype(\"float32\")\n",
    "\n",
    "model.fit(xTrain, xTrain, batch_size = batchSize, epochs = epochs, verbose = verbose, callbacks = [ES])"
   ]
  },
  {
   "cell_type": "markdown",
   "metadata": {},
   "source": [
    "# 2nd Autoencoder"
   ]
  },
  {
   "cell_type": "code",
   "execution_count": null,
   "metadata": {},
   "outputs": [],
   "source": [
    "# Retiramos a layer de decodificação, e pegamos os dados codificados para treinar o próximo autoencoder.\n",
    "\n",
    "xTrainEncoded, decoder_layers = get_encoded_data(model, [], xTrain)"
   ]
  },
  {
   "cell_type": "code",
   "execution_count": null,
   "metadata": {},
   "outputs": [],
   "source": [
    "# Adicionando o segundo autoencoder\n",
    "\n",
    "model = add_layer(model, 256)"
   ]
  },
  {
   "cell_type": "code",
   "execution_count": null,
   "metadata": {},
   "outputs": [],
   "source": [
    "# Treinando o segundo autoencoder\n",
    "\n",
    "model.fit(xTrain, xTrainEncoded, batch_size = batchSize, epochs = epochs, verbose = verbose, callbacks = [ES])"
   ]
  },
  {
   "cell_type": "markdown",
   "metadata": {},
   "source": [
    "# 3rd Autoencoder"
   ]
  },
  {
   "cell_type": "code",
   "execution_count": null,
   "metadata": {},
   "outputs": [],
   "source": [
    "# Training 3rd autoencoder\n",
    "\n",
    "xTrainEncoded, decoder_layers = get_encoded_data(model, decoder_layers, xTrain)"
   ]
  },
  {
   "cell_type": "code",
   "execution_count": null,
   "metadata": {},
   "outputs": [],
   "source": [
    "model = add_layer(model, 128)"
   ]
  },
  {
   "cell_type": "code",
   "execution_count": null,
   "metadata": {},
   "outputs": [],
   "source": [
    "model.fit(xTrain, xTrainEncoded, batch_size = batchSize, epochs = epochs, verbose = verbose, callbacks = [ES])"
   ]
  },
  {
   "cell_type": "markdown",
   "metadata": {},
   "source": [
    "# 4th Autoencoder"
   ]
  },
  {
   "cell_type": "code",
   "execution_count": null,
   "metadata": {},
   "outputs": [],
   "source": [
    "xTrainEncoded, decoder_layers = get_encoded_data(model, decoder_layers, xTrain)"
   ]
  },
  {
   "cell_type": "code",
   "execution_count": null,
   "metadata": {},
   "outputs": [],
   "source": [
    "model = add_layer(model, 64)"
   ]
  },
  {
   "cell_type": "code",
   "execution_count": null,
   "metadata": {},
   "outputs": [],
   "source": [
    "model.fit(xTrain, xTrainEncoded, batch_size = batchSize, epochs = epochs, verbose = verbose, callbacks = [ES])"
   ]
  },
  {
   "cell_type": "markdown",
   "metadata": {},
   "source": [
    "# 5th Autoencoder"
   ]
  },
  {
   "cell_type": "code",
   "execution_count": null,
   "metadata": {},
   "outputs": [],
   "source": [
    "xTrainEncoded, decoder_layers = get_encoded_data(model, decoder_layers, xTrain)"
   ]
  },
  {
   "cell_type": "code",
   "execution_count": null,
   "metadata": {},
   "outputs": [],
   "source": [
    "model = add_layer(model, 32)"
   ]
  },
  {
   "cell_type": "code",
   "execution_count": null,
   "metadata": {},
   "outputs": [],
   "source": [
    "model.fit(xTrain, xTrainEncoded, batch_size = batchSize, epochs = epochs, verbose = verbose, callbacks = [ES])"
   ]
  },
  {
   "cell_type": "markdown",
   "metadata": {},
   "source": [
    "# Add decoder layers"
   ]
  },
  {
   "cell_type": "code",
   "execution_count": null,
   "metadata": {},
   "outputs": [],
   "source": [
    "for i in range(len(decoder_layers)-1, -1, -1):\n",
    "    model.add(decoder_layers[i])\n",
    "    \n",
    "for layer in model.layers:\n",
    "    layer.trainable = False\n",
    "\n",
    "model.compile(loss = \"mse\", optimizer = \"adam\", metrics = [\"mse\"])\n",
    "model.summary()"
   ]
  },
  {
   "cell_type": "markdown",
   "metadata": {},
   "source": [
    "# Comparing the results with the original data"
   ]
  },
  {
   "cell_type": "code",
   "execution_count": null,
   "metadata": {},
   "outputs": [],
   "source": [
    "evaluation = model.evaluate(xTrain, xTrain)"
   ]
  }
 ],
 "metadata": {
  "kernelspec": {
   "display_name": "Python 3",
   "language": "python",
   "name": "python3"
  },
  "language_info": {
   "codemirror_mode": {
    "name": "ipython",
    "version": 3
   },
   "file_extension": ".py",
   "mimetype": "text/x-python",
   "name": "python",
   "nbconvert_exporter": "python",
   "pygments_lexer": "ipython3",
   "version": "3.7.4"
  }
 },
 "nbformat": 4,
 "nbformat_minor": 2
}
